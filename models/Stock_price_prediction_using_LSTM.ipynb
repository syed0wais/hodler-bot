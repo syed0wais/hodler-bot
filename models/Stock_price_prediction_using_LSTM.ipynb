{
  "cells": [
    {
      "cell_type": "markdown",
      "metadata": {
        "id": "zjTf6vS08ElR"
      },
      "source": [
        "### Stock Market Prediction And Forecasting Using Stacked LSTM"
      ]
    },
    {
      "cell_type": "code",
      "execution_count": 121,
      "metadata": {
        "id": "Mb99dwkS8ElT"
      },
      "outputs": [],
      "source": [
        "### Keras and Tensorflow >2.0"
      ]
    },
    {
      "cell_type": "code",
      "execution_count": null,
      "metadata": {
        "id": "MS1e8fJn8ElU"
      },
      "outputs": [],
      "source": [
        "import requests\n",
        "import pandas as pd\n",
        "\n",
        "# Replace with your actual Tiingo API key\n",
        "key = \"3b87e110f29a68341410d31c05b1cb6e42ac5164\"\n",
        "\n",
        "# Define start and end dates\n",
        "start_date = \"2020-01-01\"  # Change to your desired start date\n",
        "end_date = \"2023-12-31\"    # Change to your desired end date\n",
        "\n",
        "# Fetch data directly from Tiingo with date filters\n",
        "url = f\"https://api.tiingo.com/tiingo/daily/AAPL/prices?startDate={start_date}&endDate={end_date}&token={key}\"\n",
        "response = requests.get(url)\n",
        "\n",
        "# Convert response to DataFrame\n",
        "if response.status_code == 200:\n",
        "    data = response.json()\n",
        "    df = pd.DataFrame(data)\n",
        "    print(df.head())\n",
        "else:\n",
        "    print(f\"Error: {response.status_code}, {response.text}\")"
      ]
    },
    {
      "cell_type": "code",
      "execution_count": 123,
      "metadata": {
        "id": "SMGmKIvZ8ElV"
      },
      "outputs": [],
      "source": [
        "df.to_csv('AAPL.csv')"
      ]
    },
    {
      "cell_type": "code",
      "execution_count": 124,
      "metadata": {
        "id": "MtlgP82g8ElV"
      },
      "outputs": [],
      "source": [
        "import pandas as pd"
      ]
    },
    {
      "cell_type": "code",
      "execution_count": 125,
      "metadata": {
        "id": "EH5ut4G68ElW"
      },
      "outputs": [],
      "source": [
        "df=pd.read_csv('AAPL.csv')"
      ]
    },
    {
      "cell_type": "code",
      "execution_count": 126,
      "metadata": {
        "id": "RJyjjrkS8ElW",
        "outputId": "6ce302ea-3e61-40fc-95da-01a44da75866",
        "colab": {
          "base_uri": "https://localhost:8080/",
          "height": 206
        }
      },
      "outputs": [
        {
          "output_type": "execute_result",
          "data": {
            "text/plain": [
              "   Unnamed: 0                      date   close    high     low    open  \\\n",
              "0           0  2020-01-02T00:00:00.000Z  300.35  300.60  295.19  296.24   \n",
              "1           1  2020-01-03T00:00:00.000Z  297.43  300.58  296.50  297.15   \n",
              "2           2  2020-01-06T00:00:00.000Z  299.80  299.96  292.75  293.79   \n",
              "3           3  2020-01-07T00:00:00.000Z  298.39  300.90  297.48  299.84   \n",
              "4           4  2020-01-08T00:00:00.000Z  303.19  304.44  297.16  297.16   \n",
              "\n",
              "     volume   adjClose    adjHigh     adjLow    adjOpen  adjVolume  divCash  \\\n",
              "0  33911864  72.797293  72.857887  71.546639  71.801132  135647456      0.0   \n",
              "1  36633878  72.089558  72.853039  71.864150  72.021693  146535512      0.0   \n",
              "2  29644644  72.663987  72.702767  70.955244  71.207314  118578576      0.0   \n",
              "3  27877655  72.322238  72.930599  72.101677  72.673682  111510620      0.0   \n",
              "4  33090946  73.485638  73.788606  72.024117  72.024117  132363784      0.0   \n",
              "\n",
              "   splitFactor  \n",
              "0          1.0  \n",
              "1          1.0  \n",
              "2          1.0  \n",
              "3          1.0  \n",
              "4          1.0  "
            ],
            "text/html": [
              "\n",
              "  <div id=\"df-243c1ffb-44ce-4c37-b8bb-433c7c309179\" class=\"colab-df-container\">\n",
              "    <div>\n",
              "<style scoped>\n",
              "    .dataframe tbody tr th:only-of-type {\n",
              "        vertical-align: middle;\n",
              "    }\n",
              "\n",
              "    .dataframe tbody tr th {\n",
              "        vertical-align: top;\n",
              "    }\n",
              "\n",
              "    .dataframe thead th {\n",
              "        text-align: right;\n",
              "    }\n",
              "</style>\n",
              "<table border=\"1\" class=\"dataframe\">\n",
              "  <thead>\n",
              "    <tr style=\"text-align: right;\">\n",
              "      <th></th>\n",
              "      <th>Unnamed: 0</th>\n",
              "      <th>date</th>\n",
              "      <th>close</th>\n",
              "      <th>high</th>\n",
              "      <th>low</th>\n",
              "      <th>open</th>\n",
              "      <th>volume</th>\n",
              "      <th>adjClose</th>\n",
              "      <th>adjHigh</th>\n",
              "      <th>adjLow</th>\n",
              "      <th>adjOpen</th>\n",
              "      <th>adjVolume</th>\n",
              "      <th>divCash</th>\n",
              "      <th>splitFactor</th>\n",
              "    </tr>\n",
              "  </thead>\n",
              "  <tbody>\n",
              "    <tr>\n",
              "      <th>0</th>\n",
              "      <td>0</td>\n",
              "      <td>2020-01-02T00:00:00.000Z</td>\n",
              "      <td>300.35</td>\n",
              "      <td>300.60</td>\n",
              "      <td>295.19</td>\n",
              "      <td>296.24</td>\n",
              "      <td>33911864</td>\n",
              "      <td>72.797293</td>\n",
              "      <td>72.857887</td>\n",
              "      <td>71.546639</td>\n",
              "      <td>71.801132</td>\n",
              "      <td>135647456</td>\n",
              "      <td>0.0</td>\n",
              "      <td>1.0</td>\n",
              "    </tr>\n",
              "    <tr>\n",
              "      <th>1</th>\n",
              "      <td>1</td>\n",
              "      <td>2020-01-03T00:00:00.000Z</td>\n",
              "      <td>297.43</td>\n",
              "      <td>300.58</td>\n",
              "      <td>296.50</td>\n",
              "      <td>297.15</td>\n",
              "      <td>36633878</td>\n",
              "      <td>72.089558</td>\n",
              "      <td>72.853039</td>\n",
              "      <td>71.864150</td>\n",
              "      <td>72.021693</td>\n",
              "      <td>146535512</td>\n",
              "      <td>0.0</td>\n",
              "      <td>1.0</td>\n",
              "    </tr>\n",
              "    <tr>\n",
              "      <th>2</th>\n",
              "      <td>2</td>\n",
              "      <td>2020-01-06T00:00:00.000Z</td>\n",
              "      <td>299.80</td>\n",
              "      <td>299.96</td>\n",
              "      <td>292.75</td>\n",
              "      <td>293.79</td>\n",
              "      <td>29644644</td>\n",
              "      <td>72.663987</td>\n",
              "      <td>72.702767</td>\n",
              "      <td>70.955244</td>\n",
              "      <td>71.207314</td>\n",
              "      <td>118578576</td>\n",
              "      <td>0.0</td>\n",
              "      <td>1.0</td>\n",
              "    </tr>\n",
              "    <tr>\n",
              "      <th>3</th>\n",
              "      <td>3</td>\n",
              "      <td>2020-01-07T00:00:00.000Z</td>\n",
              "      <td>298.39</td>\n",
              "      <td>300.90</td>\n",
              "      <td>297.48</td>\n",
              "      <td>299.84</td>\n",
              "      <td>27877655</td>\n",
              "      <td>72.322238</td>\n",
              "      <td>72.930599</td>\n",
              "      <td>72.101677</td>\n",
              "      <td>72.673682</td>\n",
              "      <td>111510620</td>\n",
              "      <td>0.0</td>\n",
              "      <td>1.0</td>\n",
              "    </tr>\n",
              "    <tr>\n",
              "      <th>4</th>\n",
              "      <td>4</td>\n",
              "      <td>2020-01-08T00:00:00.000Z</td>\n",
              "      <td>303.19</td>\n",
              "      <td>304.44</td>\n",
              "      <td>297.16</td>\n",
              "      <td>297.16</td>\n",
              "      <td>33090946</td>\n",
              "      <td>73.485638</td>\n",
              "      <td>73.788606</td>\n",
              "      <td>72.024117</td>\n",
              "      <td>72.024117</td>\n",
              "      <td>132363784</td>\n",
              "      <td>0.0</td>\n",
              "      <td>1.0</td>\n",
              "    </tr>\n",
              "  </tbody>\n",
              "</table>\n",
              "</div>\n",
              "    <div class=\"colab-df-buttons\">\n",
              "\n",
              "  <div class=\"colab-df-container\">\n",
              "    <button class=\"colab-df-convert\" onclick=\"convertToInteractive('df-243c1ffb-44ce-4c37-b8bb-433c7c309179')\"\n",
              "            title=\"Convert this dataframe to an interactive table.\"\n",
              "            style=\"display:none;\">\n",
              "\n",
              "  <svg xmlns=\"http://www.w3.org/2000/svg\" height=\"24px\" viewBox=\"0 -960 960 960\">\n",
              "    <path d=\"M120-120v-720h720v720H120Zm60-500h600v-160H180v160Zm220 220h160v-160H400v160Zm0 220h160v-160H400v160ZM180-400h160v-160H180v160Zm440 0h160v-160H620v160ZM180-180h160v-160H180v160Zm440 0h160v-160H620v160Z\"/>\n",
              "  </svg>\n",
              "    </button>\n",
              "\n",
              "  <style>\n",
              "    .colab-df-container {\n",
              "      display:flex;\n",
              "      gap: 12px;\n",
              "    }\n",
              "\n",
              "    .colab-df-convert {\n",
              "      background-color: #E8F0FE;\n",
              "      border: none;\n",
              "      border-radius: 50%;\n",
              "      cursor: pointer;\n",
              "      display: none;\n",
              "      fill: #1967D2;\n",
              "      height: 32px;\n",
              "      padding: 0 0 0 0;\n",
              "      width: 32px;\n",
              "    }\n",
              "\n",
              "    .colab-df-convert:hover {\n",
              "      background-color: #E2EBFA;\n",
              "      box-shadow: 0px 1px 2px rgba(60, 64, 67, 0.3), 0px 1px 3px 1px rgba(60, 64, 67, 0.15);\n",
              "      fill: #174EA6;\n",
              "    }\n",
              "\n",
              "    .colab-df-buttons div {\n",
              "      margin-bottom: 4px;\n",
              "    }\n",
              "\n",
              "    [theme=dark] .colab-df-convert {\n",
              "      background-color: #3B4455;\n",
              "      fill: #D2E3FC;\n",
              "    }\n",
              "\n",
              "    [theme=dark] .colab-df-convert:hover {\n",
              "      background-color: #434B5C;\n",
              "      box-shadow: 0px 1px 3px 1px rgba(0, 0, 0, 0.15);\n",
              "      filter: drop-shadow(0px 1px 2px rgba(0, 0, 0, 0.3));\n",
              "      fill: #FFFFFF;\n",
              "    }\n",
              "  </style>\n",
              "\n",
              "    <script>\n",
              "      const buttonEl =\n",
              "        document.querySelector('#df-243c1ffb-44ce-4c37-b8bb-433c7c309179 button.colab-df-convert');\n",
              "      buttonEl.style.display =\n",
              "        google.colab.kernel.accessAllowed ? 'block' : 'none';\n",
              "\n",
              "      async function convertToInteractive(key) {\n",
              "        const element = document.querySelector('#df-243c1ffb-44ce-4c37-b8bb-433c7c309179');\n",
              "        const dataTable =\n",
              "          await google.colab.kernel.invokeFunction('convertToInteractive',\n",
              "                                                    [key], {});\n",
              "        if (!dataTable) return;\n",
              "\n",
              "        const docLinkHtml = 'Like what you see? Visit the ' +\n",
              "          '<a target=\"_blank\" href=https://colab.research.google.com/notebooks/data_table.ipynb>data table notebook</a>'\n",
              "          + ' to learn more about interactive tables.';\n",
              "        element.innerHTML = '';\n",
              "        dataTable['output_type'] = 'display_data';\n",
              "        await google.colab.output.renderOutput(dataTable, element);\n",
              "        const docLink = document.createElement('div');\n",
              "        docLink.innerHTML = docLinkHtml;\n",
              "        element.appendChild(docLink);\n",
              "      }\n",
              "    </script>\n",
              "  </div>\n",
              "\n",
              "\n",
              "<div id=\"df-ba38abe2-96f0-491f-87eb-6261920b903c\">\n",
              "  <button class=\"colab-df-quickchart\" onclick=\"quickchart('df-ba38abe2-96f0-491f-87eb-6261920b903c')\"\n",
              "            title=\"Suggest charts\"\n",
              "            style=\"display:none;\">\n",
              "\n",
              "<svg xmlns=\"http://www.w3.org/2000/svg\" height=\"24px\"viewBox=\"0 0 24 24\"\n",
              "     width=\"24px\">\n",
              "    <g>\n",
              "        <path d=\"M19 3H5c-1.1 0-2 .9-2 2v14c0 1.1.9 2 2 2h14c1.1 0 2-.9 2-2V5c0-1.1-.9-2-2-2zM9 17H7v-7h2v7zm4 0h-2V7h2v10zm4 0h-2v-4h2v4z\"/>\n",
              "    </g>\n",
              "</svg>\n",
              "  </button>\n",
              "\n",
              "<style>\n",
              "  .colab-df-quickchart {\n",
              "      --bg-color: #E8F0FE;\n",
              "      --fill-color: #1967D2;\n",
              "      --hover-bg-color: #E2EBFA;\n",
              "      --hover-fill-color: #174EA6;\n",
              "      --disabled-fill-color: #AAA;\n",
              "      --disabled-bg-color: #DDD;\n",
              "  }\n",
              "\n",
              "  [theme=dark] .colab-df-quickchart {\n",
              "      --bg-color: #3B4455;\n",
              "      --fill-color: #D2E3FC;\n",
              "      --hover-bg-color: #434B5C;\n",
              "      --hover-fill-color: #FFFFFF;\n",
              "      --disabled-bg-color: #3B4455;\n",
              "      --disabled-fill-color: #666;\n",
              "  }\n",
              "\n",
              "  .colab-df-quickchart {\n",
              "    background-color: var(--bg-color);\n",
              "    border: none;\n",
              "    border-radius: 50%;\n",
              "    cursor: pointer;\n",
              "    display: none;\n",
              "    fill: var(--fill-color);\n",
              "    height: 32px;\n",
              "    padding: 0;\n",
              "    width: 32px;\n",
              "  }\n",
              "\n",
              "  .colab-df-quickchart:hover {\n",
              "    background-color: var(--hover-bg-color);\n",
              "    box-shadow: 0 1px 2px rgba(60, 64, 67, 0.3), 0 1px 3px 1px rgba(60, 64, 67, 0.15);\n",
              "    fill: var(--button-hover-fill-color);\n",
              "  }\n",
              "\n",
              "  .colab-df-quickchart-complete:disabled,\n",
              "  .colab-df-quickchart-complete:disabled:hover {\n",
              "    background-color: var(--disabled-bg-color);\n",
              "    fill: var(--disabled-fill-color);\n",
              "    box-shadow: none;\n",
              "  }\n",
              "\n",
              "  .colab-df-spinner {\n",
              "    border: 2px solid var(--fill-color);\n",
              "    border-color: transparent;\n",
              "    border-bottom-color: var(--fill-color);\n",
              "    animation:\n",
              "      spin 1s steps(1) infinite;\n",
              "  }\n",
              "\n",
              "  @keyframes spin {\n",
              "    0% {\n",
              "      border-color: transparent;\n",
              "      border-bottom-color: var(--fill-color);\n",
              "      border-left-color: var(--fill-color);\n",
              "    }\n",
              "    20% {\n",
              "      border-color: transparent;\n",
              "      border-left-color: var(--fill-color);\n",
              "      border-top-color: var(--fill-color);\n",
              "    }\n",
              "    30% {\n",
              "      border-color: transparent;\n",
              "      border-left-color: var(--fill-color);\n",
              "      border-top-color: var(--fill-color);\n",
              "      border-right-color: var(--fill-color);\n",
              "    }\n",
              "    40% {\n",
              "      border-color: transparent;\n",
              "      border-right-color: var(--fill-color);\n",
              "      border-top-color: var(--fill-color);\n",
              "    }\n",
              "    60% {\n",
              "      border-color: transparent;\n",
              "      border-right-color: var(--fill-color);\n",
              "    }\n",
              "    80% {\n",
              "      border-color: transparent;\n",
              "      border-right-color: var(--fill-color);\n",
              "      border-bottom-color: var(--fill-color);\n",
              "    }\n",
              "    90% {\n",
              "      border-color: transparent;\n",
              "      border-bottom-color: var(--fill-color);\n",
              "    }\n",
              "  }\n",
              "</style>\n",
              "\n",
              "  <script>\n",
              "    async function quickchart(key) {\n",
              "      const quickchartButtonEl =\n",
              "        document.querySelector('#' + key + ' button');\n",
              "      quickchartButtonEl.disabled = true;  // To prevent multiple clicks.\n",
              "      quickchartButtonEl.classList.add('colab-df-spinner');\n",
              "      try {\n",
              "        const charts = await google.colab.kernel.invokeFunction(\n",
              "            'suggestCharts', [key], {});\n",
              "      } catch (error) {\n",
              "        console.error('Error during call to suggestCharts:', error);\n",
              "      }\n",
              "      quickchartButtonEl.classList.remove('colab-df-spinner');\n",
              "      quickchartButtonEl.classList.add('colab-df-quickchart-complete');\n",
              "    }\n",
              "    (() => {\n",
              "      let quickchartButtonEl =\n",
              "        document.querySelector('#df-ba38abe2-96f0-491f-87eb-6261920b903c button');\n",
              "      quickchartButtonEl.style.display =\n",
              "        google.colab.kernel.accessAllowed ? 'block' : 'none';\n",
              "    })();\n",
              "  </script>\n",
              "</div>\n",
              "\n",
              "    </div>\n",
              "  </div>\n"
            ],
            "application/vnd.google.colaboratory.intrinsic+json": {
              "type": "dataframe",
              "variable_name": "df",
              "summary": "{\n  \"name\": \"df\",\n  \"rows\": 1006,\n  \"fields\": [\n    {\n      \"column\": \"Unnamed: 0\",\n      \"properties\": {\n        \"dtype\": \"number\",\n        \"std\": 290,\n        \"min\": 0,\n        \"max\": 1005,\n        \"num_unique_values\": 1006,\n        \"samples\": [\n          927,\n          630,\n          682\n        ],\n        \"semantic_type\": \"\",\n        \"description\": \"\"\n      }\n    },\n    {\n      \"column\": \"date\",\n      \"properties\": {\n        \"dtype\": \"object\",\n        \"num_unique_values\": 1006,\n        \"samples\": [\n          \"2023-09-08T00:00:00.000Z\",\n          \"2022-07-05T00:00:00.000Z\",\n          \"2022-09-16T00:00:00.000Z\"\n        ],\n        \"semantic_type\": \"\",\n        \"description\": \"\"\n      }\n    },\n    {\n      \"column\": \"close\",\n      \"properties\": {\n        \"dtype\": \"number\",\n        \"std\": 74.64224341519721,\n        \"min\": 106.84,\n        \"max\": 506.09,\n        \"num_unique_values\": 956,\n        \"samples\": [\n          124.85,\n          178.19,\n          168.88\n        ],\n        \"semantic_type\": \"\",\n        \"description\": \"\"\n      }\n    },\n    {\n      \"column\": \"high\",\n      \"properties\": {\n        \"dtype\": \"number\",\n        \"std\": 75.43472395850495,\n        \"min\": 110.19,\n        \"max\": 515.14,\n        \"num_unique_values\": 970,\n        \"samples\": [\n          164.515,\n          130.2242,\n          146.55\n        ],\n        \"semantic_type\": \"\",\n        \"description\": \"\"\n      }\n    },\n    {\n      \"column\": \"low\",\n      \"properties\": {\n        \"dtype\": \"number\",\n        \"std\": 73.49264835866886,\n        \"min\": 103.1,\n        \"max\": 500.33,\n        \"num_unique_values\": 977,\n        \"samples\": [\n          118.15,\n          159.41,\n          112.5\n        ],\n        \"semantic_type\": \"\",\n        \"description\": \"\"\n      }\n    },\n    {\n      \"column\": \"open\",\n      \"properties\": {\n        \"dtype\": \"number\",\n        \"std\": 74.3468220390758,\n        \"min\": 104.54,\n        \"max\": 514.79,\n        \"num_unique_values\": 963,\n        \"samples\": [\n          163.84,\n          127.82,\n          127.21\n        ],\n        \"semantic_type\": \"\",\n        \"description\": \"\"\n      }\n    },\n    {\n      \"column\": \"volume\",\n      \"properties\": {\n        \"dtype\": \"number\",\n        \"std\": 36730078,\n        \"min\": 20028447,\n        \"max\": 332607163,\n        \"num_unique_values\": 1006,\n        \"samples\": [\n          65602066,\n          73429641,\n          162278841\n        ],\n        \"semantic_type\": \"\",\n        \"description\": \"\"\n      }\n    },\n    {\n      \"column\": \"adjClose\",\n      \"properties\": {\n        \"dtype\": \"number\",\n        \"std\": 33.541011583666766,\n        \"min\": 54.512493672,\n        \"max\": 197.1447158633,\n        \"num_unique_values\": 994,\n        \"samples\": [\n          173.1382430119,\n          173.66528993,\n          165.1731478878\n        ],\n        \"semantic_type\": \"\",\n        \"description\": \"\"\n      }\n    },\n    {\n      \"column\": \"adjHigh\",\n      \"properties\": {\n        \"dtype\": \"number\",\n        \"std\": 33.661700641011365,\n        \"min\": 55.5159103447,\n        \"max\": 198.6473584404,\n        \"num_unique_values\": 997,\n        \"samples\": [\n          147.1071590995,\n          152.6636092674,\n          108.836476949\n        ],\n        \"semantic_type\": \"\",\n        \"description\": \"\"\n      }\n    },\n    {\n      \"column\": \"adjLow\",\n      \"properties\": {\n        \"dtype\": \"number\",\n        \"std\": 33.401018398092354,\n        \"min\": 51.655307214,\n        \"max\": 196.0401243,\n        \"num_unique_values\": 1000,\n        \"samples\": [\n          170.5414055558,\n          139.5961403113,\n          134.6133913642\n        ],\n        \"semantic_type\": \"\",\n        \"description\": \"\"\n      }\n    },\n    {\n      \"column\": \"adjOpen\",\n      \"properties\": {\n        \"dtype\": \"number\",\n        \"std\": 33.53457406345703,\n        \"min\": 55.4138679712,\n        \"max\": 197.0551543852,\n        \"num_unique_values\": 994,\n        \"samples\": [\n          178.3857599346,\n          169.7738791334,\n          164.9071527194\n        ],\n        \"semantic_type\": \"\",\n        \"description\": \"\"\n      }\n    },\n    {\n      \"column\": \"adjVolume\",\n      \"properties\": {\n        \"dtype\": \"number\",\n        \"std\": 54408118,\n        \"min\": 24048344,\n        \"max\": 426884920,\n        \"num_unique_values\": 1006,\n        \"samples\": [\n          65602066,\n          73429641,\n          162278841\n        ],\n        \"semantic_type\": \"\",\n        \"description\": \"\"\n      }\n    },\n    {\n      \"column\": \"divCash\",\n      \"properties\": {\n        \"dtype\": \"number\",\n        \"std\": 0.05058271855170123,\n        \"min\": 0.0,\n        \"max\": 0.82,\n        \"num_unique_values\": 7,\n        \"samples\": [\n          0.0,\n          0.77,\n          0.23\n        ],\n        \"semantic_type\": \"\",\n        \"description\": \"\"\n      }\n    },\n    {\n      \"column\": \"splitFactor\",\n      \"properties\": {\n        \"dtype\": \"number\",\n        \"std\": 0.09458499916791259,\n        \"min\": 1.0,\n        \"max\": 4.0,\n        \"num_unique_values\": 2,\n        \"samples\": [\n          4.0,\n          1.0\n        ],\n        \"semantic_type\": \"\",\n        \"description\": \"\"\n      }\n    }\n  ]\n}"
            }
          },
          "metadata": {},
          "execution_count": 126
        }
      ],
      "source": [
        "df.head()"
      ]
    },
    {
      "cell_type": "code",
      "execution_count": 127,
      "metadata": {
        "id": "xYc0NKx08ElX",
        "outputId": "aa72c87e-1a4b-4c6d-bbbe-90260e13ff48",
        "colab": {
          "base_uri": "https://localhost:8080/",
          "height": 206
        }
      },
      "outputs": [
        {
          "output_type": "execute_result",
          "data": {
            "text/plain": [
              "      Unnamed: 0                      date   close    high      low    open  \\\n",
              "1001        1001  2023-12-22T00:00:00.000Z  193.60  195.41  192.970  195.18   \n",
              "1002        1002  2023-12-26T00:00:00.000Z  193.05  193.89  192.830  193.61   \n",
              "1003        1003  2023-12-27T00:00:00.000Z  193.15  193.50  191.090  192.49   \n",
              "1004        1004  2023-12-28T00:00:00.000Z  193.58  194.66  193.170  194.14   \n",
              "1005        1005  2023-12-29T00:00:00.000Z  192.53  194.40  191.725  193.90   \n",
              "\n",
              "        volume    adjClose     adjHigh      adjLow     adjOpen  adjVolume  \\\n",
              "1001  37149570  192.656691  194.457872  192.029760  194.228992   37149570   \n",
              "1002  28919310  192.109371  192.945278  191.890442  192.666642   28919310   \n",
              "1003  47899806  192.208883  192.557178  190.158921  191.552099   47899806   \n",
              "1004  34049898  192.636788  193.711526  192.228786  193.194060   34049898   \n",
              "1005  42672148  191.591904  193.452793  190.790827  192.955229   42672148   \n",
              "\n",
              "      divCash  splitFactor  \n",
              "1001      0.0          1.0  \n",
              "1002      0.0          1.0  \n",
              "1003      0.0          1.0  \n",
              "1004      0.0          1.0  \n",
              "1005      0.0          1.0  "
            ],
            "text/html": [
              "\n",
              "  <div id=\"df-4d8318c5-1da0-43ff-87a7-be68c048e51e\" class=\"colab-df-container\">\n",
              "    <div>\n",
              "<style scoped>\n",
              "    .dataframe tbody tr th:only-of-type {\n",
              "        vertical-align: middle;\n",
              "    }\n",
              "\n",
              "    .dataframe tbody tr th {\n",
              "        vertical-align: top;\n",
              "    }\n",
              "\n",
              "    .dataframe thead th {\n",
              "        text-align: right;\n",
              "    }\n",
              "</style>\n",
              "<table border=\"1\" class=\"dataframe\">\n",
              "  <thead>\n",
              "    <tr style=\"text-align: right;\">\n",
              "      <th></th>\n",
              "      <th>Unnamed: 0</th>\n",
              "      <th>date</th>\n",
              "      <th>close</th>\n",
              "      <th>high</th>\n",
              "      <th>low</th>\n",
              "      <th>open</th>\n",
              "      <th>volume</th>\n",
              "      <th>adjClose</th>\n",
              "      <th>adjHigh</th>\n",
              "      <th>adjLow</th>\n",
              "      <th>adjOpen</th>\n",
              "      <th>adjVolume</th>\n",
              "      <th>divCash</th>\n",
              "      <th>splitFactor</th>\n",
              "    </tr>\n",
              "  </thead>\n",
              "  <tbody>\n",
              "    <tr>\n",
              "      <th>1001</th>\n",
              "      <td>1001</td>\n",
              "      <td>2023-12-22T00:00:00.000Z</td>\n",
              "      <td>193.60</td>\n",
              "      <td>195.41</td>\n",
              "      <td>192.970</td>\n",
              "      <td>195.18</td>\n",
              "      <td>37149570</td>\n",
              "      <td>192.656691</td>\n",
              "      <td>194.457872</td>\n",
              "      <td>192.029760</td>\n",
              "      <td>194.228992</td>\n",
              "      <td>37149570</td>\n",
              "      <td>0.0</td>\n",
              "      <td>1.0</td>\n",
              "    </tr>\n",
              "    <tr>\n",
              "      <th>1002</th>\n",
              "      <td>1002</td>\n",
              "      <td>2023-12-26T00:00:00.000Z</td>\n",
              "      <td>193.05</td>\n",
              "      <td>193.89</td>\n",
              "      <td>192.830</td>\n",
              "      <td>193.61</td>\n",
              "      <td>28919310</td>\n",
              "      <td>192.109371</td>\n",
              "      <td>192.945278</td>\n",
              "      <td>191.890442</td>\n",
              "      <td>192.666642</td>\n",
              "      <td>28919310</td>\n",
              "      <td>0.0</td>\n",
              "      <td>1.0</td>\n",
              "    </tr>\n",
              "    <tr>\n",
              "      <th>1003</th>\n",
              "      <td>1003</td>\n",
              "      <td>2023-12-27T00:00:00.000Z</td>\n",
              "      <td>193.15</td>\n",
              "      <td>193.50</td>\n",
              "      <td>191.090</td>\n",
              "      <td>192.49</td>\n",
              "      <td>47899806</td>\n",
              "      <td>192.208883</td>\n",
              "      <td>192.557178</td>\n",
              "      <td>190.158921</td>\n",
              "      <td>191.552099</td>\n",
              "      <td>47899806</td>\n",
              "      <td>0.0</td>\n",
              "      <td>1.0</td>\n",
              "    </tr>\n",
              "    <tr>\n",
              "      <th>1004</th>\n",
              "      <td>1004</td>\n",
              "      <td>2023-12-28T00:00:00.000Z</td>\n",
              "      <td>193.58</td>\n",
              "      <td>194.66</td>\n",
              "      <td>193.170</td>\n",
              "      <td>194.14</td>\n",
              "      <td>34049898</td>\n",
              "      <td>192.636788</td>\n",
              "      <td>193.711526</td>\n",
              "      <td>192.228786</td>\n",
              "      <td>193.194060</td>\n",
              "      <td>34049898</td>\n",
              "      <td>0.0</td>\n",
              "      <td>1.0</td>\n",
              "    </tr>\n",
              "    <tr>\n",
              "      <th>1005</th>\n",
              "      <td>1005</td>\n",
              "      <td>2023-12-29T00:00:00.000Z</td>\n",
              "      <td>192.53</td>\n",
              "      <td>194.40</td>\n",
              "      <td>191.725</td>\n",
              "      <td>193.90</td>\n",
              "      <td>42672148</td>\n",
              "      <td>191.591904</td>\n",
              "      <td>193.452793</td>\n",
              "      <td>190.790827</td>\n",
              "      <td>192.955229</td>\n",
              "      <td>42672148</td>\n",
              "      <td>0.0</td>\n",
              "      <td>1.0</td>\n",
              "    </tr>\n",
              "  </tbody>\n",
              "</table>\n",
              "</div>\n",
              "    <div class=\"colab-df-buttons\">\n",
              "\n",
              "  <div class=\"colab-df-container\">\n",
              "    <button class=\"colab-df-convert\" onclick=\"convertToInteractive('df-4d8318c5-1da0-43ff-87a7-be68c048e51e')\"\n",
              "            title=\"Convert this dataframe to an interactive table.\"\n",
              "            style=\"display:none;\">\n",
              "\n",
              "  <svg xmlns=\"http://www.w3.org/2000/svg\" height=\"24px\" viewBox=\"0 -960 960 960\">\n",
              "    <path d=\"M120-120v-720h720v720H120Zm60-500h600v-160H180v160Zm220 220h160v-160H400v160Zm0 220h160v-160H400v160ZM180-400h160v-160H180v160Zm440 0h160v-160H620v160ZM180-180h160v-160H180v160Zm440 0h160v-160H620v160Z\"/>\n",
              "  </svg>\n",
              "    </button>\n",
              "\n",
              "  <style>\n",
              "    .colab-df-container {\n",
              "      display:flex;\n",
              "      gap: 12px;\n",
              "    }\n",
              "\n",
              "    .colab-df-convert {\n",
              "      background-color: #E8F0FE;\n",
              "      border: none;\n",
              "      border-radius: 50%;\n",
              "      cursor: pointer;\n",
              "      display: none;\n",
              "      fill: #1967D2;\n",
              "      height: 32px;\n",
              "      padding: 0 0 0 0;\n",
              "      width: 32px;\n",
              "    }\n",
              "\n",
              "    .colab-df-convert:hover {\n",
              "      background-color: #E2EBFA;\n",
              "      box-shadow: 0px 1px 2px rgba(60, 64, 67, 0.3), 0px 1px 3px 1px rgba(60, 64, 67, 0.15);\n",
              "      fill: #174EA6;\n",
              "    }\n",
              "\n",
              "    .colab-df-buttons div {\n",
              "      margin-bottom: 4px;\n",
              "    }\n",
              "\n",
              "    [theme=dark] .colab-df-convert {\n",
              "      background-color: #3B4455;\n",
              "      fill: #D2E3FC;\n",
              "    }\n",
              "\n",
              "    [theme=dark] .colab-df-convert:hover {\n",
              "      background-color: #434B5C;\n",
              "      box-shadow: 0px 1px 3px 1px rgba(0, 0, 0, 0.15);\n",
              "      filter: drop-shadow(0px 1px 2px rgba(0, 0, 0, 0.3));\n",
              "      fill: #FFFFFF;\n",
              "    }\n",
              "  </style>\n",
              "\n",
              "    <script>\n",
              "      const buttonEl =\n",
              "        document.querySelector('#df-4d8318c5-1da0-43ff-87a7-be68c048e51e button.colab-df-convert');\n",
              "      buttonEl.style.display =\n",
              "        google.colab.kernel.accessAllowed ? 'block' : 'none';\n",
              "\n",
              "      async function convertToInteractive(key) {\n",
              "        const element = document.querySelector('#df-4d8318c5-1da0-43ff-87a7-be68c048e51e');\n",
              "        const dataTable =\n",
              "          await google.colab.kernel.invokeFunction('convertToInteractive',\n",
              "                                                    [key], {});\n",
              "        if (!dataTable) return;\n",
              "\n",
              "        const docLinkHtml = 'Like what you see? Visit the ' +\n",
              "          '<a target=\"_blank\" href=https://colab.research.google.com/notebooks/data_table.ipynb>data table notebook</a>'\n",
              "          + ' to learn more about interactive tables.';\n",
              "        element.innerHTML = '';\n",
              "        dataTable['output_type'] = 'display_data';\n",
              "        await google.colab.output.renderOutput(dataTable, element);\n",
              "        const docLink = document.createElement('div');\n",
              "        docLink.innerHTML = docLinkHtml;\n",
              "        element.appendChild(docLink);\n",
              "      }\n",
              "    </script>\n",
              "  </div>\n",
              "\n",
              "\n",
              "<div id=\"df-ad175227-ee30-4b84-a21c-673196322778\">\n",
              "  <button class=\"colab-df-quickchart\" onclick=\"quickchart('df-ad175227-ee30-4b84-a21c-673196322778')\"\n",
              "            title=\"Suggest charts\"\n",
              "            style=\"display:none;\">\n",
              "\n",
              "<svg xmlns=\"http://www.w3.org/2000/svg\" height=\"24px\"viewBox=\"0 0 24 24\"\n",
              "     width=\"24px\">\n",
              "    <g>\n",
              "        <path d=\"M19 3H5c-1.1 0-2 .9-2 2v14c0 1.1.9 2 2 2h14c1.1 0 2-.9 2-2V5c0-1.1-.9-2-2-2zM9 17H7v-7h2v7zm4 0h-2V7h2v10zm4 0h-2v-4h2v4z\"/>\n",
              "    </g>\n",
              "</svg>\n",
              "  </button>\n",
              "\n",
              "<style>\n",
              "  .colab-df-quickchart {\n",
              "      --bg-color: #E8F0FE;\n",
              "      --fill-color: #1967D2;\n",
              "      --hover-bg-color: #E2EBFA;\n",
              "      --hover-fill-color: #174EA6;\n",
              "      --disabled-fill-color: #AAA;\n",
              "      --disabled-bg-color: #DDD;\n",
              "  }\n",
              "\n",
              "  [theme=dark] .colab-df-quickchart {\n",
              "      --bg-color: #3B4455;\n",
              "      --fill-color: #D2E3FC;\n",
              "      --hover-bg-color: #434B5C;\n",
              "      --hover-fill-color: #FFFFFF;\n",
              "      --disabled-bg-color: #3B4455;\n",
              "      --disabled-fill-color: #666;\n",
              "  }\n",
              "\n",
              "  .colab-df-quickchart {\n",
              "    background-color: var(--bg-color);\n",
              "    border: none;\n",
              "    border-radius: 50%;\n",
              "    cursor: pointer;\n",
              "    display: none;\n",
              "    fill: var(--fill-color);\n",
              "    height: 32px;\n",
              "    padding: 0;\n",
              "    width: 32px;\n",
              "  }\n",
              "\n",
              "  .colab-df-quickchart:hover {\n",
              "    background-color: var(--hover-bg-color);\n",
              "    box-shadow: 0 1px 2px rgba(60, 64, 67, 0.3), 0 1px 3px 1px rgba(60, 64, 67, 0.15);\n",
              "    fill: var(--button-hover-fill-color);\n",
              "  }\n",
              "\n",
              "  .colab-df-quickchart-complete:disabled,\n",
              "  .colab-df-quickchart-complete:disabled:hover {\n",
              "    background-color: var(--disabled-bg-color);\n",
              "    fill: var(--disabled-fill-color);\n",
              "    box-shadow: none;\n",
              "  }\n",
              "\n",
              "  .colab-df-spinner {\n",
              "    border: 2px solid var(--fill-color);\n",
              "    border-color: transparent;\n",
              "    border-bottom-color: var(--fill-color);\n",
              "    animation:\n",
              "      spin 1s steps(1) infinite;\n",
              "  }\n",
              "\n",
              "  @keyframes spin {\n",
              "    0% {\n",
              "      border-color: transparent;\n",
              "      border-bottom-color: var(--fill-color);\n",
              "      border-left-color: var(--fill-color);\n",
              "    }\n",
              "    20% {\n",
              "      border-color: transparent;\n",
              "      border-left-color: var(--fill-color);\n",
              "      border-top-color: var(--fill-color);\n",
              "    }\n",
              "    30% {\n",
              "      border-color: transparent;\n",
              "      border-left-color: var(--fill-color);\n",
              "      border-top-color: var(--fill-color);\n",
              "      border-right-color: var(--fill-color);\n",
              "    }\n",
              "    40% {\n",
              "      border-color: transparent;\n",
              "      border-right-color: var(--fill-color);\n",
              "      border-top-color: var(--fill-color);\n",
              "    }\n",
              "    60% {\n",
              "      border-color: transparent;\n",
              "      border-right-color: var(--fill-color);\n",
              "    }\n",
              "    80% {\n",
              "      border-color: transparent;\n",
              "      border-right-color: var(--fill-color);\n",
              "      border-bottom-color: var(--fill-color);\n",
              "    }\n",
              "    90% {\n",
              "      border-color: transparent;\n",
              "      border-bottom-color: var(--fill-color);\n",
              "    }\n",
              "  }\n",
              "</style>\n",
              "\n",
              "  <script>\n",
              "    async function quickchart(key) {\n",
              "      const quickchartButtonEl =\n",
              "        document.querySelector('#' + key + ' button');\n",
              "      quickchartButtonEl.disabled = true;  // To prevent multiple clicks.\n",
              "      quickchartButtonEl.classList.add('colab-df-spinner');\n",
              "      try {\n",
              "        const charts = await google.colab.kernel.invokeFunction(\n",
              "            'suggestCharts', [key], {});\n",
              "      } catch (error) {\n",
              "        console.error('Error during call to suggestCharts:', error);\n",
              "      }\n",
              "      quickchartButtonEl.classList.remove('colab-df-spinner');\n",
              "      quickchartButtonEl.classList.add('colab-df-quickchart-complete');\n",
              "    }\n",
              "    (() => {\n",
              "      let quickchartButtonEl =\n",
              "        document.querySelector('#df-ad175227-ee30-4b84-a21c-673196322778 button');\n",
              "      quickchartButtonEl.style.display =\n",
              "        google.colab.kernel.accessAllowed ? 'block' : 'none';\n",
              "    })();\n",
              "  </script>\n",
              "</div>\n",
              "\n",
              "    </div>\n",
              "  </div>\n"
            ],
            "application/vnd.google.colaboratory.intrinsic+json": {
              "type": "dataframe",
              "repr_error": "0"
            }
          },
          "metadata": {},
          "execution_count": 127
        }
      ],
      "source": [
        "df.tail()"
      ]
    },
    {
      "cell_type": "code",
      "execution_count": 128,
      "metadata": {
        "id": "Khuwc79u8ElX"
      },
      "outputs": [],
      "source": [
        "df1=df.reset_index()['close']"
      ]
    },
    {
      "cell_type": "code",
      "execution_count": 129,
      "metadata": {
        "id": "2-gyVZVP8ElY",
        "outputId": "c185a063-33e9-4c26-da53-a1aa10b5c03b",
        "colab": {
          "base_uri": "https://localhost:8080/",
          "height": 458
        }
      },
      "outputs": [
        {
          "output_type": "execute_result",
          "data": {
            "text/plain": [
              "0       300.35\n",
              "1       297.43\n",
              "2       299.80\n",
              "3       298.39\n",
              "4       303.19\n",
              "         ...  \n",
              "1001    193.60\n",
              "1002    193.05\n",
              "1003    193.15\n",
              "1004    193.58\n",
              "1005    192.53\n",
              "Name: close, Length: 1006, dtype: float64"
            ],
            "text/html": [
              "<div>\n",
              "<style scoped>\n",
              "    .dataframe tbody tr th:only-of-type {\n",
              "        vertical-align: middle;\n",
              "    }\n",
              "\n",
              "    .dataframe tbody tr th {\n",
              "        vertical-align: top;\n",
              "    }\n",
              "\n",
              "    .dataframe thead th {\n",
              "        text-align: right;\n",
              "    }\n",
              "</style>\n",
              "<table border=\"1\" class=\"dataframe\">\n",
              "  <thead>\n",
              "    <tr style=\"text-align: right;\">\n",
              "      <th></th>\n",
              "      <th>close</th>\n",
              "    </tr>\n",
              "  </thead>\n",
              "  <tbody>\n",
              "    <tr>\n",
              "      <th>0</th>\n",
              "      <td>300.35</td>\n",
              "    </tr>\n",
              "    <tr>\n",
              "      <th>1</th>\n",
              "      <td>297.43</td>\n",
              "    </tr>\n",
              "    <tr>\n",
              "      <th>2</th>\n",
              "      <td>299.80</td>\n",
              "    </tr>\n",
              "    <tr>\n",
              "      <th>3</th>\n",
              "      <td>298.39</td>\n",
              "    </tr>\n",
              "    <tr>\n",
              "      <th>4</th>\n",
              "      <td>303.19</td>\n",
              "    </tr>\n",
              "    <tr>\n",
              "      <th>...</th>\n",
              "      <td>...</td>\n",
              "    </tr>\n",
              "    <tr>\n",
              "      <th>1001</th>\n",
              "      <td>193.60</td>\n",
              "    </tr>\n",
              "    <tr>\n",
              "      <th>1002</th>\n",
              "      <td>193.05</td>\n",
              "    </tr>\n",
              "    <tr>\n",
              "      <th>1003</th>\n",
              "      <td>193.15</td>\n",
              "    </tr>\n",
              "    <tr>\n",
              "      <th>1004</th>\n",
              "      <td>193.58</td>\n",
              "    </tr>\n",
              "    <tr>\n",
              "      <th>1005</th>\n",
              "      <td>192.53</td>\n",
              "    </tr>\n",
              "  </tbody>\n",
              "</table>\n",
              "<p>1006 rows × 1 columns</p>\n",
              "</div><br><label><b>dtype:</b> float64</label>"
            ]
          },
          "metadata": {},
          "execution_count": 129
        }
      ],
      "source": [
        "df1"
      ]
    },
    {
      "cell_type": "code",
      "execution_count": 130,
      "metadata": {
        "id": "-c_h5cst8ElY",
        "outputId": "239f3eb9-375c-43c4-b7e8-8d26daea7f82",
        "colab": {
          "base_uri": "https://localhost:8080/",
          "height": 447
        }
      },
      "outputs": [
        {
          "output_type": "execute_result",
          "data": {
            "text/plain": [
              "[<matplotlib.lines.Line2D at 0x7f21cbc3fb20>]"
            ]
          },
          "metadata": {},
          "execution_count": 130
        },
        {
          "output_type": "display_data",
          "data": {
            "text/plain": [
              "<Figure size 640x480 with 1 Axes>"
            ],
            "image/png": "[encoded data removed]"
          },
          "metadata": {}
        }
      ],
      "source": [
        "import matplotlib.pyplot as plt\n",
        "plt.plot(df1)"
      ]
    },
    {
      "cell_type": "code",
      "execution_count": 131,
      "metadata": {
        "id": "R64Lgevj8ElY"
      },
      "outputs": [],
      "source": [
        "### LSTM are sensitive to the scale of the data. so we apply MinMax scaler"
      ]
    },
    {
      "cell_type": "code",
      "execution_count": 132,
      "metadata": {
        "id": "bw0V7tdc8ElY"
      },
      "outputs": [],
      "source": [
        "import numpy as np"
      ]
    },
    {
      "cell_type": "code",
      "execution_count": 133,
      "metadata": {
        "id": "d36S-REe8ElY",
        "outputId": "e1928d38-b8aa-4250-b887-68fe5c980e3e",
        "colab": {
          "base_uri": "https://localhost:8080/",
          "height": 458
        }
      },
      "outputs": [
        {
          "output_type": "execute_result",
          "data": {
            "text/plain": [
              "0       300.35\n",
              "1       297.43\n",
              "2       299.80\n",
              "3       298.39\n",
              "4       303.19\n",
              "         ...  \n",
              "1001    193.60\n",
              "1002    193.05\n",
              "1003    193.15\n",
              "1004    193.58\n",
              "1005    192.53\n",
              "Name: close, Length: 1006, dtype: float64"
            ],
            "text/html": [
              "<div>\n",
              "<style scoped>\n",
              "    .dataframe tbody tr th:only-of-type {\n",
              "        vertical-align: middle;\n",
              "    }\n",
              "\n",
              "    .dataframe tbody tr th {\n",
              "        vertical-align: top;\n",
              "    }\n",
              "\n",
              "    .dataframe thead th {\n",
              "        text-align: right;\n",
              "    }\n",
              "</style>\n",
              "<table border=\"1\" class=\"dataframe\">\n",
              "  <thead>\n",
              "    <tr style=\"text-align: right;\">\n",
              "      <th></th>\n",
              "      <th>close</th>\n",
              "    </tr>\n",
              "  </thead>\n",
              "  <tbody>\n",
              "    <tr>\n",
              "      <th>0</th>\n",
              "      <td>300.35</td>\n",
              "    </tr>\n",
              "    <tr>\n",
              "      <th>1</th>\n",
              "      <td>297.43</td>\n",
              "    </tr>\n",
              "    <tr>\n",
              "      <th>2</th>\n",
              "      <td>299.80</td>\n",
              "    </tr>\n",
              "    <tr>\n",
              "      <th>3</th>\n",
              "      <td>298.39</td>\n",
              "    </tr>\n",
              "    <tr>\n",
              "      <th>4</th>\n",
              "      <td>303.19</td>\n",
              "    </tr>\n",
              "    <tr>\n",
              "      <th>...</th>\n",
              "      <td>...</td>\n",
              "    </tr>\n",
              "    <tr>\n",
              "      <th>1001</th>\n",
              "      <td>193.60</td>\n",
              "    </tr>\n",
              "    <tr>\n",
              "      <th>1002</th>\n",
              "      <td>193.05</td>\n",
              "    </tr>\n",
              "    <tr>\n",
              "      <th>1003</th>\n",
              "      <td>193.15</td>\n",
              "    </tr>\n",
              "    <tr>\n",
              "      <th>1004</th>\n",
              "      <td>193.58</td>\n",
              "    </tr>\n",
              "    <tr>\n",
              "      <th>1005</th>\n",
              "      <td>192.53</td>\n",
              "    </tr>\n",
              "  </tbody>\n",
              "</table>\n",
              "<p>1006 rows × 1 columns</p>\n",
              "</div><br><label><b>dtype:</b> float64</label>"
            ]
          },
          "metadata": {},
          "execution_count": 133
        }
      ],
      "source": [
        "df1"
      ]
    },
    {
      "cell_type": "code",
      "execution_count": 134,
      "metadata": {
        "id": "YjH6aZy38ElY"
      },
      "outputs": [],
      "source": [
        "from sklearn.preprocessing import MinMaxScaler\n",
        "scaler=MinMaxScaler(feature_range=(0,1))\n",
        "df1=scaler.fit_transform(np.array(df1).reshape(-1,1))"
      ]
    },
    {
      "cell_type": "code",
      "execution_count": 135,
      "metadata": {
        "id": "icynvFsB8ElZ",
        "outputId": "00245aa6-f576-4a59-937f-6fa18fb30f4a",
        "colab": {
          "base_uri": "https://localhost:8080/"
        }
      },
      "outputs": [
        {
          "output_type": "stream",
          "name": "stdout",
          "text": [
            "[[0.48468378]\n",
            " [0.47737007]\n",
            " [0.4833062 ]\n",
            " ...\n",
            " [0.21618034]\n",
            " [0.21725736]\n",
            " [0.21462743]]\n"
          ]
        }
      ],
      "source": [
        "print(df1)"
      ]
    },
    {
      "cell_type": "code",
      "execution_count": 136,
      "metadata": {
        "id": "03rf7BUw8ElZ"
      },
      "outputs": [],
      "source": [
        "##splitting dataset into train and test split\n",
        "training_size=int(len(df1)*0.65)\n",
        "test_size=len(df1)-training_size\n",
        "train_data,test_data=df1[0:training_size,:],df1[training_size:len(df1),:1]"
      ]
    },
    {
      "cell_type": "code",
      "execution_count": 137,
      "metadata": {
        "id": "s9al5UmQ8ElZ",
        "outputId": "79b28101-2da1-4278-c37b-a70a9490a593",
        "colab": {
          "base_uri": "https://localhost:8080/"
        }
      },
      "outputs": [
        {
          "output_type": "execute_result",
          "data": {
            "text/plain": [
              "(653, 353)"
            ]
          },
          "metadata": {},
          "execution_count": 137
        }
      ],
      "source": [
        "training_size,test_size"
      ]
    },
    {
      "cell_type": "code",
      "execution_count": null,
      "metadata": {
        "id": "yA2mGG1d8ElZ"
      },
      "outputs": [],
      "source": [
        "train_data"
      ]
    },
    {
      "cell_type": "code",
      "execution_count": 139,
      "metadata": {
        "id": "S8F4hLqu8ElZ"
      },
      "outputs": [],
      "source": [
        "import numpy\n",
        "# convert an array of values into a dataset matrix\n",
        "def create_dataset(dataset, time_step=1):\n",
        "\tdataX, dataY = [], []\n",
        "\tfor i in range(len(dataset)-time_step-1):\n",
        "\t\ta = dataset[i:(i+time_step), 0]   ###i=0, 0,1,2,3-----99   100\n",
        "\t\tdataX.append(a)\n",
        "\t\tdataY.append(dataset[i + time_step, 0])\n",
        "\treturn numpy.array(dataX), numpy.array(dataY)"
      ]
    },
    {
      "cell_type": "code",
      "execution_count": 140,
      "metadata": {
        "id": "Y_IVtzYg8ElZ"
      },
      "outputs": [],
      "source": [
        "# reshape into X=t,t+1,t+2,t+3 and Y=t+4\n",
        "time_step = 100\n",
        "X_train, y_train = create_dataset(train_data, time_step)\n",
        "X_test, ytest = create_dataset(test_data, time_step)"
      ]
    },
    {
      "cell_type": "code",
      "execution_count": 141,
      "metadata": {
        "id": "aJn9fWmT8ElZ",
        "outputId": "6bc60ef7-4440-44f6-89d2-b27f75cb8a4c",
        "colab": {
          "base_uri": "https://localhost:8080/"
        }
      },
      "outputs": [
        {
          "output_type": "stream",
          "name": "stdout",
          "text": [
            "(552, 100)\n",
            "(552,)\n"
          ]
        },
        {
          "output_type": "execute_result",
          "data": {
            "text/plain": [
              "(None, None)"
            ]
          },
          "metadata": {},
          "execution_count": 141
        }
      ],
      "source": [
        "print(X_train.shape), print(y_train.shape)"
      ]
    },
    {
      "cell_type": "code",
      "execution_count": 142,
      "metadata": {
        "id": "2RaXChdz8Ela",
        "outputId": "860b8a0f-d1ae-4b1c-d386-5b6ba6a1063d",
        "colab": {
          "base_uri": "https://localhost:8080/"
        }
      },
      "outputs": [
        {
          "output_type": "stream",
          "name": "stdout",
          "text": [
            "(252, 100)\n",
            "(252,)\n"
          ]
        },
        {
          "output_type": "execute_result",
          "data": {
            "text/plain": [
              "(None, None)"
            ]
          },
          "metadata": {},
          "execution_count": 142
        }
      ],
      "source": [
        "print(X_test.shape), print(ytest.shape)"
      ]
    },
    {
      "cell_type": "code",
      "execution_count": 143,
      "metadata": {
        "id": "ukTvNjxr8Ela"
      },
      "outputs": [],
      "source": [
        "# reshape input to be [samples, time steps, features] which is required for LSTM\n",
        "X_train =X_train.reshape(X_train.shape[0],X_train.shape[1] , 1)\n",
        "X_test = X_test.reshape(X_test.shape[0],X_test.shape[1] , 1)"
      ]
    },
    {
      "cell_type": "code",
      "execution_count": 144,
      "metadata": {
        "id": "Cbihwb6y8Ela"
      },
      "outputs": [],
      "source": [
        "### Create the Stacked LSTM model\n",
        "from tensorflow.keras.models import Sequential\n",
        "from tensorflow.keras.layers import Dense\n",
        "from tensorflow.keras.layers import LSTM"
      ]
    },
    {
      "cell_type": "code",
      "execution_count": 145,
      "metadata": {
        "id": "zWuGvbtf8Ela",
        "colab": {
          "base_uri": "https://localhost:8080/"
        },
        "outputId": "195916bb-e88b-44de-bba7-1a4dced051f5"
      },
      "outputs": [
        {
          "output_type": "stream",
          "name": "stderr",
          "text": [
            "/usr/local/lib/python3.10/dist-packages/keras/src/layers/rnn/rnn.py:204: UserWarning: Do not pass an `input_shape`/`input_dim` argument to a layer. When using Sequential models, prefer using an `Input(shape)` object as the first layer in the model instead.\n",
            "  super().__init__(**kwargs)\n"
          ]
        }
      ],
      "source": [
        "model=Sequential()\n",
        "model.add(LSTM(50,return_sequences=True,input_shape=(100,1)))\n",
        "model.add(LSTM(50,return_sequences=True))\n",
        "model.add(LSTM(50))\n",
        "model.add(Dense(1))\n",
        "model.compile(loss='mean_squared_error',optimizer='adam')\n"
      ]
    },
    {
      "cell_type": "code",
      "execution_count": 146,
      "metadata": {
        "id": "HXAYIqrI8Ela",
        "outputId": "9b8661ef-52c6-47d5-b9a9-c587c39f744b",
        "colab": {
          "base_uri": "https://localhost:8080/",
          "height": 259
        }
      },
      "outputs": [
        {
          "output_type": "display_data",
          "data": {
            "text/plain": [
              "\u001b[1mModel: \"sequential_2\"\u001b[0m\n"
            ],
            "text/html": [
              "<pre style=\"white-space:pre;overflow-x:auto;line-height:normal;font-family:Menlo,'DejaVu Sans Mono',consolas,'Courier New',monospace\"><span style=\"font-weight: bold\">Model: \"sequential_2\"</span>\n",
              "</pre>\n"
            ]
          },
          "metadata": {}
        },
        {
          "output_type": "display_data",
          "data": {
            "text/plain": [
              "┏━━━━━━━━━━━━━━━━━━━━━━━━━━━━━━━━━━━━━━┳━━━━━━━━━━━━━━━━━━━━━━━━━━━━━┳━━━━━━━━━━━━━━━━━┓\n",
              "┃\u001b[1m \u001b[0m\u001b[1mLayer (type)                        \u001b[0m\u001b[1m \u001b[0m┃\u001b[1m \u001b[0m\u001b[1mOutput Shape               \u001b[0m\u001b[1m \u001b[0m┃\u001b[1m \u001b[0m\u001b[1m        Param #\u001b[0m\u001b[1m \u001b[0m┃\n",
              "┡━━━━━━━━━━━━━━━━━━━━━━━━━━━━━━━━━━━━━━╇━━━━━━━━━━━━━━━━━━━━━━━━━━━━━╇━━━━━━━━━━━━━━━━━┩\n",
              "│ lstm_6 (\u001b[38;5;33mLSTM\u001b[0m)                        │ (\u001b[38;5;45mNone\u001b[0m, \u001b[38;5;34m100\u001b[0m, \u001b[38;5;34m50\u001b[0m)             │          \u001b[38;5;34m10,400\u001b[0m │\n",
              "├──────────────────────────────────────┼─────────────────────────────┼─────────────────┤\n",
              "│ lstm_7 (\u001b[38;5;33mLSTM\u001b[0m)                        │ (\u001b[38;5;45mNone\u001b[0m, \u001b[38;5;34m100\u001b[0m, \u001b[38;5;34m50\u001b[0m)             │          \u001b[38;5;34m20,200\u001b[0m │\n",
              "├──────────────────────────────────────┼─────────────────────────────┼─────────────────┤\n",
              "│ lstm_8 (\u001b[38;5;33mLSTM\u001b[0m)                        │ (\u001b[38;5;45mNone\u001b[0m, \u001b[38;5;34m50\u001b[0m)                  │          \u001b[38;5;34m20,200\u001b[0m │\n",
              "├──────────────────────────────────────┼─────────────────────────────┼─────────────────┤\n",
              "│ dense_2 (\u001b[38;5;33mDense\u001b[0m)                      │ (\u001b[38;5;45mNone\u001b[0m, \u001b[38;5;34m1\u001b[0m)                   │              \u001b[38;5;34m51\u001b[0m │\n",
              "└──────────────────────────────────────┴─────────────────────────────┴─────────────────┘\n"
            ],
            "text/html": [
              "<pre style=\"white-space:pre;overflow-x:auto;line-height:normal;font-family:Menlo,'DejaVu Sans Mono',consolas,'Courier New',monospace\">┏━━━━━━━━━━━━━━━━━━━━━━━━━━━━━━━━━━━━━━┳━━━━━━━━━━━━━━━━━━━━━━━━━━━━━┳━━━━━━━━━━━━━━━━━┓\n",
              "┃<span style=\"font-weight: bold\"> Layer (type)                         </span>┃<span style=\"font-weight: bold\"> Output Shape                </span>┃<span style=\"font-weight: bold\">         Param # </span>┃\n",
              "┡━━━━━━━━━━━━━━━━━━━━━━━━━━━━━━━━━━━━━━╇━━━━━━━━━━━━━━━━━━━━━━━━━━━━━╇━━━━━━━━━━━━━━━━━┩\n",
              "│ lstm_6 (<span style=\"color: #0087ff; text-decoration-color: #0087ff\">LSTM</span>)                        │ (<span style=\"color: #00d7ff; text-decoration-color: #00d7ff\">None</span>, <span style=\"color: #00af00; text-decoration-color: #00af00\">100</span>, <span style=\"color: #00af00; text-decoration-color: #00af00\">50</span>)             │          <span style=\"color: #00af00; text-decoration-color: #00af00\">10,400</span> │\n",
              "├──────────────────────────────────────┼─────────────────────────────┼─────────────────┤\n",
              "│ lstm_7 (<span style=\"color: #0087ff; text-decoration-color: #0087ff\">LSTM</span>)                        │ (<span style=\"color: #00d7ff; text-decoration-color: #00d7ff\">None</span>, <span style=\"color: #00af00; text-decoration-color: #00af00\">100</span>, <span style=\"color: #00af00; text-decoration-color: #00af00\">50</span>)             │          <span style=\"color: #00af00; text-decoration-color: #00af00\">20,200</span> │\n",
              "├──────────────────────────────────────┼─────────────────────────────┼─────────────────┤\n",
              "│ lstm_8 (<span style=\"color: #0087ff; text-decoration-color: #0087ff\">LSTM</span>)                        │ (<span style=\"color: #00d7ff; text-decoration-color: #00d7ff\">None</span>, <span style=\"color: #00af00; text-decoration-color: #00af00\">50</span>)                  │          <span style=\"color: #00af00; text-decoration-color: #00af00\">20,200</span> │\n",
              "├──────────────────────────────────────┼─────────────────────────────┼─────────────────┤\n",
              "│ dense_2 (<span style=\"color: #0087ff; text-decoration-color: #0087ff\">Dense</span>)                      │ (<span style=\"color: #00d7ff; text-decoration-color: #00d7ff\">None</span>, <span style=\"color: #00af00; text-decoration-color: #00af00\">1</span>)                   │              <span style=\"color: #00af00; text-decoration-color: #00af00\">51</span> │\n",
              "└──────────────────────────────────────┴─────────────────────────────┴─────────────────┘\n",
              "</pre>\n"
            ]
          },
          "metadata": {}
        },
        {
          "output_type": "display_data",
          "data": {
            "text/plain": [
              "\u001b[1m Total params: \u001b[0m\u001b[38;5;34m50,851\u001b[0m (198.64 KB)\n"
            ],
            "text/html": [
              "<pre style=\"white-space:pre;overflow-x:auto;line-height:normal;font-family:Menlo,'DejaVu Sans Mono',consolas,'Courier New',monospace\"><span style=\"font-weight: bold\"> Total params: </span><span style=\"color: #00af00; text-decoration-color: #00af00\">50,851</span> (198.64 KB)\n",
              "</pre>\n"
            ]
          },
          "metadata": {}
        },
        {
          "output_type": "display_data",
          "data": {
            "text/plain": [
              "\u001b[1m Trainable params: \u001b[0m\u001b[38;5;34m50,851\u001b[0m (198.64 KB)\n"
            ],
            "text/html": [
              "<pre style=\"white-space:pre;overflow-x:auto;line-height:normal;font-family:Menlo,'DejaVu Sans Mono',consolas,'Courier New',monospace\"><span style=\"font-weight: bold\"> Trainable params: </span><span style=\"color: #00af00; text-decoration-color: #00af00\">50,851</span> (198.64 KB)\n",
              "</pre>\n"
            ]
          },
          "metadata": {}
        },
        {
          "output_type": "display_data",
          "data": {
            "text/plain": [
              "\u001b[1m Non-trainable params: \u001b[0m\u001b[38;5;34m0\u001b[0m (0.00 B)\n"
            ],
            "text/html": [
              "<pre style=\"white-space:pre;overflow-x:auto;line-height:normal;font-family:Menlo,'DejaVu Sans Mono',consolas,'Courier New',monospace\"><span style=\"font-weight: bold\"> Non-trainable params: </span><span style=\"color: #00af00; text-decoration-color: #00af00\">0</span> (0.00 B)\n",
              "</pre>\n"
            ]
          },
          "metadata": {}
        }
      ],
      "source": [
        "model.summary()"
      ]
    },
    {
      "cell_type": "code",
      "execution_count": 147,
      "metadata": {
        "id": "43_i364O8Ela",
        "outputId": "02f9951a-f315-4ff7-efb3-14e54e5ec9aa",
        "colab": {
          "base_uri": "https://localhost:8080/",
          "height": 259
        }
      },
      "outputs": [
        {
          "output_type": "display_data",
          "data": {
            "text/plain": [
              "\u001b[1mModel: \"sequential_2\"\u001b[0m\n"
            ],
            "text/html": [
              "<pre style=\"white-space:pre;overflow-x:auto;line-height:normal;font-family:Menlo,'DejaVu Sans Mono',consolas,'Courier New',monospace\"><span style=\"font-weight: bold\">Model: \"sequential_2\"</span>\n",
              "</pre>\n"
            ]
          },
          "metadata": {}
        },
        {
          "output_type": "display_data",
          "data": {
            "text/plain": [
              "┏━━━━━━━━━━━━━━━━━━━━━━━━━━━━━━━━━━━━━━┳━━━━━━━━━━━━━━━━━━━━━━━━━━━━━┳━━━━━━━━━━━━━━━━━┓\n",
              "┃\u001b[1m \u001b[0m\u001b[1mLayer (type)                        \u001b[0m\u001b[1m \u001b[0m┃\u001b[1m \u001b[0m\u001b[1mOutput Shape               \u001b[0m\u001b[1m \u001b[0m┃\u001b[1m \u001b[0m\u001b[1m        Param #\u001b[0m\u001b[1m \u001b[0m┃\n",
              "┡━━━━━━━━━━━━━━━━━━━━━━━━━━━━━━━━━━━━━━╇━━━━━━━━━━━━━━━━━━━━━━━━━━━━━╇━━━━━━━━━━━━━━━━━┩\n",
              "│ lstm_6 (\u001b[38;5;33mLSTM\u001b[0m)                        │ (\u001b[38;5;45mNone\u001b[0m, \u001b[38;5;34m100\u001b[0m, \u001b[38;5;34m50\u001b[0m)             │          \u001b[38;5;34m10,400\u001b[0m │\n",
              "├──────────────────────────────────────┼─────────────────────────────┼─────────────────┤\n",
              "│ lstm_7 (\u001b[38;5;33mLSTM\u001b[0m)                        │ (\u001b[38;5;45mNone\u001b[0m, \u001b[38;5;34m100\u001b[0m, \u001b[38;5;34m50\u001b[0m)             │          \u001b[38;5;34m20,200\u001b[0m │\n",
              "├──────────────────────────────────────┼─────────────────────────────┼─────────────────┤\n",
              "│ lstm_8 (\u001b[38;5;33mLSTM\u001b[0m)                        │ (\u001b[38;5;45mNone\u001b[0m, \u001b[38;5;34m50\u001b[0m)                  │          \u001b[38;5;34m20,200\u001b[0m │\n",
              "├──────────────────────────────────────┼─────────────────────────────┼─────────────────┤\n",
              "│ dense_2 (\u001b[38;5;33mDense\u001b[0m)                      │ (\u001b[38;5;45mNone\u001b[0m, \u001b[38;5;34m1\u001b[0m)                   │              \u001b[38;5;34m51\u001b[0m │\n",
              "└──────────────────────────────────────┴─────────────────────────────┴─────────────────┘\n"
            ],
            "text/html": [
              "<pre style=\"white-space:pre;overflow-x:auto;line-height:normal;font-family:Menlo,'DejaVu Sans Mono',consolas,'Courier New',monospace\">┏━━━━━━━━━━━━━━━━━━━━━━━━━━━━━━━━━━━━━━┳━━━━━━━━━━━━━━━━━━━━━━━━━━━━━┳━━━━━━━━━━━━━━━━━┓\n",
              "┃<span style=\"font-weight: bold\"> Layer (type)                         </span>┃<span style=\"font-weight: bold\"> Output Shape                </span>┃<span style=\"font-weight: bold\">         Param # </span>┃\n",
              "┡━━━━━━━━━━━━━━━━━━━━━━━━━━━━━━━━━━━━━━╇━━━━━━━━━━━━━━━━━━━━━━━━━━━━━╇━━━━━━━━━━━━━━━━━┩\n",
              "│ lstm_6 (<span style=\"color: #0087ff; text-decoration-color: #0087ff\">LSTM</span>)                        │ (<span style=\"color: #00d7ff; text-decoration-color: #00d7ff\">None</span>, <span style=\"color: #00af00; text-decoration-color: #00af00\">100</span>, <span style=\"color: #00af00; text-decoration-color: #00af00\">50</span>)             │          <span style=\"color: #00af00; text-decoration-color: #00af00\">10,400</span> │\n",
              "├──────────────────────────────────────┼─────────────────────────────┼─────────────────┤\n",
              "│ lstm_7 (<span style=\"color: #0087ff; text-decoration-color: #0087ff\">LSTM</span>)                        │ (<span style=\"color: #00d7ff; text-decoration-color: #00d7ff\">None</span>, <span style=\"color: #00af00; text-decoration-color: #00af00\">100</span>, <span style=\"color: #00af00; text-decoration-color: #00af00\">50</span>)             │          <span style=\"color: #00af00; text-decoration-color: #00af00\">20,200</span> │\n",
              "├──────────────────────────────────────┼─────────────────────────────┼─────────────────┤\n",
              "│ lstm_8 (<span style=\"color: #0087ff; text-decoration-color: #0087ff\">LSTM</span>)                        │ (<span style=\"color: #00d7ff; text-decoration-color: #00d7ff\">None</span>, <span style=\"color: #00af00; text-decoration-color: #00af00\">50</span>)                  │          <span style=\"color: #00af00; text-decoration-color: #00af00\">20,200</span> │\n",
              "├──────────────────────────────────────┼─────────────────────────────┼─────────────────┤\n",
              "│ dense_2 (<span style=\"color: #0087ff; text-decoration-color: #0087ff\">Dense</span>)                      │ (<span style=\"color: #00d7ff; text-decoration-color: #00d7ff\">None</span>, <span style=\"color: #00af00; text-decoration-color: #00af00\">1</span>)                   │              <span style=\"color: #00af00; text-decoration-color: #00af00\">51</span> │\n",
              "└──────────────────────────────────────┴─────────────────────────────┴─────────────────┘\n",
              "</pre>\n"
            ]
          },
          "metadata": {}
        },
        {
          "output_type": "display_data",
          "data": {
            "text/plain": [
              "\u001b[1m Total params: \u001b[0m\u001b[38;5;34m50,851\u001b[0m (198.64 KB)\n"
            ],
            "text/html": [
              "<pre style=\"white-space:pre;overflow-x:auto;line-height:normal;font-family:Menlo,'DejaVu Sans Mono',consolas,'Courier New',monospace\"><span style=\"font-weight: bold\"> Total params: </span><span style=\"color: #00af00; text-decoration-color: #00af00\">50,851</span> (198.64 KB)\n",
              "</pre>\n"
            ]
          },
          "metadata": {}
        },
        {
          "output_type": "display_data",
          "data": {
            "text/plain": [
              "\u001b[1m Trainable params: \u001b[0m\u001b[38;5;34m50,851\u001b[0m (198.64 KB)\n"
            ],
            "text/html": [
              "<pre style=\"white-space:pre;overflow-x:auto;line-height:normal;font-family:Menlo,'DejaVu Sans Mono',consolas,'Courier New',monospace\"><span style=\"font-weight: bold\"> Trainable params: </span><span style=\"color: #00af00; text-decoration-color: #00af00\">50,851</span> (198.64 KB)\n",
              "</pre>\n"
            ]
          },
          "metadata": {}
        },
        {
          "output_type": "display_data",
          "data": {
            "text/plain": [
              "\u001b[1m Non-trainable params: \u001b[0m\u001b[38;5;34m0\u001b[0m (0.00 B)\n"
            ],
            "text/html": [
              "<pre style=\"white-space:pre;overflow-x:auto;line-height:normal;font-family:Menlo,'DejaVu Sans Mono',consolas,'Courier New',monospace\"><span style=\"font-weight: bold\"> Non-trainable params: </span><span style=\"color: #00af00; text-decoration-color: #00af00\">0</span> (0.00 B)\n",
              "</pre>\n"
            ]
          },
          "metadata": {}
        }
      ],
      "source": [
        "model.summary()"
      ]
    },
    {
      "cell_type": "code",
      "execution_count": null,
      "metadata": {
        "id": "qkjhQ2du8Ela"
      },
      "outputs": [],
      "source": [
        "model.fit(X_train,y_train,validation_data=(X_test,ytest),epochs=100,batch_size=64,verbose=1)"
      ]
    },
    {
      "cell_type": "code",
      "execution_count": 149,
      "metadata": {
        "id": "D6b4y8t_8Ela"
      },
      "outputs": [],
      "source": [
        "import tensorflow as tf"
      ]
    },
    {
      "cell_type": "code",
      "execution_count": 150,
      "metadata": {
        "id": "5Lf59cl48Ela",
        "outputId": "a82aac8a-f3da-425b-bb76-54e9aec8924d",
        "colab": {
          "base_uri": "https://localhost:8080/",
          "height": 35
        }
      },
      "outputs": [
        {
          "output_type": "execute_result",
          "data": {
            "text/plain": [
              "'2.17.1'"
            ],
            "application/vnd.google.colaboratory.intrinsic+json": {
              "type": "string"
            }
          },
          "metadata": {},
          "execution_count": 150
        }
      ],
      "source": [
        "tf.__version__"
      ]
    },
    {
      "cell_type": "code",
      "execution_count": 151,
      "metadata": {
        "id": "PZhTtDer8Elb",
        "colab": {
          "base_uri": "https://localhost:8080/"
        },
        "outputId": "a0dff684-fd73-447c-f4f7-5554b59f8113"
      },
      "outputs": [
        {
          "output_type": "stream",
          "name": "stdout",
          "text": [
            "\u001b[1m18/18\u001b[0m \u001b[32m━━━━━━━━━━━━━━━━━━━━\u001b[0m\u001b[37m\u001b[0m \u001b[1m1s\u001b[0m 55ms/step\n",
            "\u001b[1m8/8\u001b[0m \u001b[32m━━━━━━━━━━━━━━━━━━━━\u001b[0m\u001b[37m\u001b[0m \u001b[1m0s\u001b[0m 31ms/step\n"
          ]
        }
      ],
      "source": [
        "### Lets Do the prediction and check performance metrics\n",
        "train_predict=model.predict(X_train)\n",
        "test_predict=model.predict(X_test)"
      ]
    },
    {
      "cell_type": "code",
      "execution_count": 152,
      "metadata": {
        "id": "ddgdVkKV8Elb"
      },
      "outputs": [],
      "source": [
        "##Transformback to original form\n",
        "train_predict=scaler.inverse_transform(train_predict)\n",
        "test_predict=scaler.inverse_transform(test_predict)"
      ]
    },
    {
      "cell_type": "code",
      "execution_count": 153,
      "metadata": {
        "id": "MLlXvpzn8Elb",
        "outputId": "6d523168-7fd0-41a2-af47-0bc886b1d02b",
        "colab": {
          "base_uri": "https://localhost:8080/"
        }
      },
      "outputs": [
        {
          "output_type": "execute_result",
          "data": {
            "text/plain": [
              "191.11735045363346"
            ]
          },
          "metadata": {},
          "execution_count": 153
        }
      ],
      "source": [
        "### Calculate RMSE performance metrics\n",
        "import math\n",
        "from sklearn.metrics import mean_squared_error\n",
        "math.sqrt(mean_squared_error(y_train,train_predict))"
      ]
    },
    {
      "cell_type": "code",
      "execution_count": 154,
      "metadata": {
        "id": "nkB4H5T78Elb",
        "outputId": "b2c1836d-516c-4f08-c835-79949b9a1d97",
        "colab": {
          "base_uri": "https://localhost:8080/"
        }
      },
      "outputs": [
        {
          "output_type": "execute_result",
          "data": {
            "text/plain": [
              "167.84921839501277"
            ]
          },
          "metadata": {},
          "execution_count": 154
        }
      ],
      "source": [
        "### Test Data RMSE\n",
        "math.sqrt(mean_squared_error(ytest,test_predict))"
      ]
    },
    {
      "cell_type": "code",
      "execution_count": 155,
      "metadata": {
        "id": "h7tJ4OgN8Elb",
        "outputId": "b1e07474-9e64-4fd2-a5b4-6ee0b9b5a6d2",
        "colab": {
          "base_uri": "https://localhost:8080/",
          "height": 449
        }
      },
      "outputs": [
        {
          "output_type": "display_data",
          "data": {
            "text/plain": [
              "<Figure size 640x480 with 1 Axes>"
            ],
            "image/png": "[encoded data removed]"
          },
          "metadata": {}
        }
      ],
      "source": [
        "### Plotting\n",
        "# shift train predictions for plotting\n",
        "look_back=100\n",
        "trainPredictPlot = numpy.empty_like(df1)\n",
        "trainPredictPlot[:, :] = np.nan\n",
        "trainPredictPlot[look_back:len(train_predict)+look_back, :] = train_predict\n",
        "# shift test predictions for plotting\n",
        "testPredictPlot = numpy.empty_like(df1)\n",
        "testPredictPlot[:, :] = numpy.nan\n",
        "testPredictPlot[len(train_predict)+(look_back*2)+1:len(df1)-1, :] = test_predict\n",
        "# plot baseline and predictions\n",
        "plt.plot(scaler.inverse_transform(df1),label='Original')\n",
        "plt.plot(trainPredictPlot, label='Training')\n",
        "plt.plot(testPredictPlot, label='Predicted')\n",
        "\n",
        "plt.xlabel('Time Steps')\n",
        "plt.ylabel('Value')\n",
        "\n",
        "plt.legend()\n",
        "\n",
        "plt.show()\n",
        "\n"
      ]
    },
    {
      "cell_type": "code",
      "execution_count": 156,
      "metadata": {
        "id": "u1qy4sze8Elb",
        "outputId": "b9392ad8-3bac-46fb-8236-1bd3a2a250c6",
        "colab": {
          "base_uri": "https://localhost:8080/"
        }
      },
      "outputs": [
        {
          "output_type": "execute_result",
          "data": {
            "text/plain": [
              "353"
            ]
          },
          "metadata": {},
          "execution_count": 156
        }
      ],
      "source": [
        "len(test_data)"
      ]
    },
    {
      "cell_type": "code",
      "execution_count": 162,
      "metadata": {
        "id": "JSe4f8rg8Elc",
        "outputId": "d7facc91-1796-49d0-bb01-5021509d10e6",
        "colab": {
          "base_uri": "https://localhost:8080/"
        }
      },
      "outputs": [
        {
          "output_type": "execute_result",
          "data": {
            "text/plain": [
              "(1, 100)"
            ]
          },
          "metadata": {},
          "execution_count": 162
        }
      ],
      "source": [
        "x_input=test_data[253:].reshape(1,-1)       #len(test_data) - 100 at start\n",
        "x_input.shape\n",
        "\n",
        "x_input=test_data[len(test_data)-100:].reshape(1,-1)       #len(test_data) - 100 at start\n",
        "x_input.shape"
      ]
    },
    {
      "cell_type": "code",
      "execution_count": 163,
      "metadata": {
        "id": "nxrnGoWl8Elc"
      },
      "outputs": [],
      "source": [
        "temp_input=list(x_input)\n",
        "temp_input=temp_input[0].tolist()"
      ]
    },
    {
      "cell_type": "code",
      "execution_count": 164,
      "metadata": {
        "id": "5Zz5yuuK8Elc",
        "outputId": "33075737-8964-49ce-8429-afa88f4634b0",
        "colab": {
          "base_uri": "https://localhost:8080/"
        },
        "collapsed": true
      },
      "outputs": [
        {
          "output_type": "execute_result",
          "data": {
            "text/plain": [
              "[0.1787100814026299,\n",
              " 0.17815904821540385,\n",
              " 0.17770820288040068,\n",
              " 0.18189104571070758,\n",
              " 0.1768566061365059,\n",
              " 0.1746524733876017,\n",
              " 0.16821540388227924,\n",
              " 0.16944270507200998,\n",
              " 0.17282404508453347,\n",
              " 0.17630557294927984,\n",
              " 0.18604884157795865,\n",
              " 0.17417658108954281,\n",
              " 0.17976205385097055,\n",
              " 0.18371947401377575,\n",
              " 0.1935629304946775,\n",
              " 0.20240450845335,\n",
              " 0.20295554164057605,\n",
              " 0.20693800876643703,\n",
              " 0.20753913587977452,\n",
              " 0.19053224796493418,\n",
              " 0.1771321227301189,\n",
              " 0.17868503443957418,\n",
              " 0.18164057608015027,\n",
              " 0.17397620538509706,\n",
              " 0.16874139010644956,\n",
              " 0.17257357545397617,\n",
              " 0.17074514715090788,\n",
              " 0.17815904821540385,\n",
              " 0.18091421415153408,\n",
              " 0.17194740137758296,\n",
              " 0.16804007514088914,\n",
              " 0.17019411396368184,\n",
              " 0.173425172197871,\n",
              " 0.16310582341891044,\n",
              " 0.15927363807138384,\n",
              " 0.15992485911083276,\n",
              " 0.16122730118973072,\n",
              " 0.16758922980588598,\n",
              " 0.16420788979336254,\n",
              " 0.1673638071383844,\n",
              " 0.17049467752035058,\n",
              " 0.17695679398872882,\n",
              " 0.18071383844708827,\n",
              " 0.17921102066374445,\n",
              " 0.18274264245460237,\n",
              " 0.1850219160926737,\n",
              " 0.18036318096430803,\n",
              " 0.18003757044458357,\n",
              " 0.17610519724483403,\n",
              " 0.17282404508453347,\n",
              " 0.17187226048841575,\n",
              " 0.1654101440200375,\n",
              " 0.1657107075767063,\n",
              " 0.1668127739511584,\n",
              " 0.16095178459611764,\n",
              " 0.15040701314965554,\n",
              " 0.1537382592360676,\n",
              " 0.15892298058860355,\n",
              " 0.16012523481527863,\n",
              " 0.16814026299311202,\n",
              " 0.17715716969317463,\n",
              " 0.17485284909204757,\n",
              " 0.1813149655604257,\n",
              " 0.18780212899185966,\n",
              " 0.19048215403882274,\n",
              " 0.1892798998121477,\n",
              " 0.19927363807138382,\n",
              " 0.19526612398246712,\n",
              " 0.20187852222917968,\n",
              " 0.20330619912335623,\n",
              " 0.2075641828428303,\n",
              " 0.2075140889167188,\n",
              " 0.21192235441452717,\n",
              " 0.20989355040701307,\n",
              " 0.211571696931747,\n",
              " 0.20821540388227922,\n",
              " 0.2077645585472761,\n",
              " 0.2092924232936756,\n",
              " 0.20671258609893545,\n",
              " 0.20816530995616772,\n",
              " 0.2113963681903569,\n",
              " 0.20686286787726987,\n",
              " 0.21685660613650587,\n",
              " 0.21410144020037564,\n",
              " 0.21898559799624295,\n",
              " 0.22259236067626798,\n",
              " 0.21625547902316838,\n",
              " 0.22008766437069505,\n",
              " 0.2282279273638071,\n",
              " 0.22860363180964305,\n",
              " 0.2272510958046336,\n",
              " 0.22304320601127103,\n",
              " 0.22567313713212267,\n",
              " 0.2203882279273638,\n",
              " 0.22001252348152783,\n",
              " 0.21730745147150904,\n",
              " 0.21592986850344392,\n",
              " 0.21618033813400123,\n",
              " 0.2172573575453976,\n",
              " 0.21462742642454596]"
            ]
          },
          "metadata": {},
          "execution_count": 164
        }
      ],
      "source": [
        "temp_input"
      ]
    },
    {
      "cell_type": "code",
      "execution_count": 165,
      "metadata": {
        "id": "j79XeWzX8Eld",
        "outputId": "bb17af9d-96ad-47c4-8cd0-ee79da441954",
        "colab": {
          "base_uri": "https://localhost:8080/"
        },
        "collapsed": true
      },
      "outputs": [
        {
          "output_type": "stream",
          "name": "stdout",
          "text": [
            "[0.21460769]\n",
            "101\n",
            "1 day input [0.17815905 0.1777082  0.18189105 0.17685661 0.17465247 0.1682154\n",
            " 0.16944271 0.17282405 0.17630557 0.18604884 0.17417658 0.17976205\n",
            " 0.18371947 0.19356293 0.20240451 0.20295554 0.20693801 0.20753914\n",
            " 0.19053225 0.17713212 0.17868503 0.18164058 0.17397621 0.16874139\n",
            " 0.17257358 0.17074515 0.17815905 0.18091421 0.1719474  0.16804008\n",
            " 0.17019411 0.17342517 0.16310582 0.15927364 0.15992486 0.1612273\n",
            " 0.16758923 0.16420789 0.16736381 0.17049468 0.17695679 0.18071384\n",
            " 0.17921102 0.18274264 0.18502192 0.18036318 0.18003757 0.1761052\n",
            " 0.17282405 0.17187226 0.16541014 0.16571071 0.16681277 0.16095178\n",
            " 0.15040701 0.15373826 0.15892298 0.16012523 0.16814026 0.17715717\n",
            " 0.17485285 0.18131497 0.18780213 0.19048215 0.1892799  0.19927364\n",
            " 0.19526612 0.20187852 0.2033062  0.20756418 0.20751409 0.21192235\n",
            " 0.20989355 0.2115717  0.2082154  0.20776456 0.20929242 0.20671259\n",
            " 0.20816531 0.21139637 0.20686287 0.21685661 0.21410144 0.2189856\n",
            " 0.22259236 0.21625548 0.22008766 0.22822793 0.22860363 0.2272511\n",
            " 0.22304321 0.22567314 0.22038823 0.22001252 0.21730745 0.21592987\n",
            " 0.21618034 0.21725736 0.21462743 0.21460769]\n",
            "1 day output [[0.21336676]]\n",
            "2 day input [0.1777082  0.18189105 0.17685661 0.17465247 0.1682154  0.16944271\n",
            " 0.17282405 0.17630557 0.18604884 0.17417658 0.17976205 0.18371947\n",
            " 0.19356293 0.20240451 0.20295554 0.20693801 0.20753914 0.19053225\n",
            " 0.17713212 0.17868503 0.18164058 0.17397621 0.16874139 0.17257358\n",
            " 0.17074515 0.17815905 0.18091421 0.1719474  0.16804008 0.17019411\n",
            " 0.17342517 0.16310582 0.15927364 0.15992486 0.1612273  0.16758923\n",
            " 0.16420789 0.16736381 0.17049468 0.17695679 0.18071384 0.17921102\n",
            " 0.18274264 0.18502192 0.18036318 0.18003757 0.1761052  0.17282405\n",
            " 0.17187226 0.16541014 0.16571071 0.16681277 0.16095178 0.15040701\n",
            " 0.15373826 0.15892298 0.16012523 0.16814026 0.17715717 0.17485285\n",
            " 0.18131497 0.18780213 0.19048215 0.1892799  0.19927364 0.19526612\n",
            " 0.20187852 0.2033062  0.20756418 0.20751409 0.21192235 0.20989355\n",
            " 0.2115717  0.2082154  0.20776456 0.20929242 0.20671259 0.20816531\n",
            " 0.21139637 0.20686287 0.21685661 0.21410144 0.2189856  0.22259236\n",
            " 0.21625548 0.22008766 0.22822793 0.22860363 0.2272511  0.22304321\n",
            " 0.22567314 0.22038823 0.22001252 0.21730745 0.21592987 0.21618034\n",
            " 0.21725736 0.21462743 0.21460769 0.21336676]\n",
            "2 day output [[0.21206936]]\n",
            "3 day input [0.18189105 0.17685661 0.17465247 0.1682154  0.16944271 0.17282405\n",
            " 0.17630557 0.18604884 0.17417658 0.17976205 0.18371947 0.19356293\n",
            " 0.20240451 0.20295554 0.20693801 0.20753914 0.19053225 0.17713212\n",
            " 0.17868503 0.18164058 0.17397621 0.16874139 0.17257358 0.17074515\n",
            " 0.17815905 0.18091421 0.1719474  0.16804008 0.17019411 0.17342517\n",
            " 0.16310582 0.15927364 0.15992486 0.1612273  0.16758923 0.16420789\n",
            " 0.16736381 0.17049468 0.17695679 0.18071384 0.17921102 0.18274264\n",
            " 0.18502192 0.18036318 0.18003757 0.1761052  0.17282405 0.17187226\n",
            " 0.16541014 0.16571071 0.16681277 0.16095178 0.15040701 0.15373826\n",
            " 0.15892298 0.16012523 0.16814026 0.17715717 0.17485285 0.18131497\n",
            " 0.18780213 0.19048215 0.1892799  0.19927364 0.19526612 0.20187852\n",
            " 0.2033062  0.20756418 0.20751409 0.21192235 0.20989355 0.2115717\n",
            " 0.2082154  0.20776456 0.20929242 0.20671259 0.20816531 0.21139637\n",
            " 0.20686287 0.21685661 0.21410144 0.2189856  0.22259236 0.21625548\n",
            " 0.22008766 0.22822793 0.22860363 0.2272511  0.22304321 0.22567314\n",
            " 0.22038823 0.22001252 0.21730745 0.21592987 0.21618034 0.21725736\n",
            " 0.21462743 0.21460769 0.21336676 0.21206936]\n",
            "3 day output [[0.21073624]]\n",
            "4 day input [0.17685661 0.17465247 0.1682154  0.16944271 0.17282405 0.17630557\n",
            " 0.18604884 0.17417658 0.17976205 0.18371947 0.19356293 0.20240451\n",
            " 0.20295554 0.20693801 0.20753914 0.19053225 0.17713212 0.17868503\n",
            " 0.18164058 0.17397621 0.16874139 0.17257358 0.17074515 0.17815905\n",
            " 0.18091421 0.1719474  0.16804008 0.17019411 0.17342517 0.16310582\n",
            " 0.15927364 0.15992486 0.1612273  0.16758923 0.16420789 0.16736381\n",
            " 0.17049468 0.17695679 0.18071384 0.17921102 0.18274264 0.18502192\n",
            " 0.18036318 0.18003757 0.1761052  0.17282405 0.17187226 0.16541014\n",
            " 0.16571071 0.16681277 0.16095178 0.15040701 0.15373826 0.15892298\n",
            " 0.16012523 0.16814026 0.17715717 0.17485285 0.18131497 0.18780213\n",
            " 0.19048215 0.1892799  0.19927364 0.19526612 0.20187852 0.2033062\n",
            " 0.20756418 0.20751409 0.21192235 0.20989355 0.2115717  0.2082154\n",
            " 0.20776456 0.20929242 0.20671259 0.20816531 0.21139637 0.20686287\n",
            " 0.21685661 0.21410144 0.2189856  0.22259236 0.21625548 0.22008766\n",
            " 0.22822793 0.22860363 0.2272511  0.22304321 0.22567314 0.22038823\n",
            " 0.22001252 0.21730745 0.21592987 0.21618034 0.21725736 0.21462743\n",
            " 0.21460769 0.21336676 0.21206936 0.21073624]\n",
            "4 day output [[0.20937856]]\n",
            "5 day input [0.17465247 0.1682154  0.16944271 0.17282405 0.17630557 0.18604884\n",
            " 0.17417658 0.17976205 0.18371947 0.19356293 0.20240451 0.20295554\n",
            " 0.20693801 0.20753914 0.19053225 0.17713212 0.17868503 0.18164058\n",
            " 0.17397621 0.16874139 0.17257358 0.17074515 0.17815905 0.18091421\n",
            " 0.1719474  0.16804008 0.17019411 0.17342517 0.16310582 0.15927364\n",
            " 0.15992486 0.1612273  0.16758923 0.16420789 0.16736381 0.17049468\n",
            " 0.17695679 0.18071384 0.17921102 0.18274264 0.18502192 0.18036318\n",
            " 0.18003757 0.1761052  0.17282405 0.17187226 0.16541014 0.16571071\n",
            " 0.16681277 0.16095178 0.15040701 0.15373826 0.15892298 0.16012523\n",
            " 0.16814026 0.17715717 0.17485285 0.18131497 0.18780213 0.19048215\n",
            " 0.1892799  0.19927364 0.19526612 0.20187852 0.2033062  0.20756418\n",
            " 0.20751409 0.21192235 0.20989355 0.2115717  0.2082154  0.20776456\n",
            " 0.20929242 0.20671259 0.20816531 0.21139637 0.20686287 0.21685661\n",
            " 0.21410144 0.2189856  0.22259236 0.21625548 0.22008766 0.22822793\n",
            " 0.22860363 0.2272511  0.22304321 0.22567314 0.22038823 0.22001252\n",
            " 0.21730745 0.21592987 0.21618034 0.21725736 0.21462743 0.21460769\n",
            " 0.21336676 0.21206936 0.21073624 0.20937856]\n",
            "5 day output [[0.20800294]]\n",
            "6 day input [0.1682154  0.16944271 0.17282405 0.17630557 0.18604884 0.17417658\n",
            " 0.17976205 0.18371947 0.19356293 0.20240451 0.20295554 0.20693801\n",
            " 0.20753914 0.19053225 0.17713212 0.17868503 0.18164058 0.17397621\n",
            " 0.16874139 0.17257358 0.17074515 0.17815905 0.18091421 0.1719474\n",
            " 0.16804008 0.17019411 0.17342517 0.16310582 0.15927364 0.15992486\n",
            " 0.1612273  0.16758923 0.16420789 0.16736381 0.17049468 0.17695679\n",
            " 0.18071384 0.17921102 0.18274264 0.18502192 0.18036318 0.18003757\n",
            " 0.1761052  0.17282405 0.17187226 0.16541014 0.16571071 0.16681277\n",
            " 0.16095178 0.15040701 0.15373826 0.15892298 0.16012523 0.16814026\n",
            " 0.17715717 0.17485285 0.18131497 0.18780213 0.19048215 0.1892799\n",
            " 0.19927364 0.19526612 0.20187852 0.2033062  0.20756418 0.20751409\n",
            " 0.21192235 0.20989355 0.2115717  0.2082154  0.20776456 0.20929242\n",
            " 0.20671259 0.20816531 0.21139637 0.20686287 0.21685661 0.21410144\n",
            " 0.2189856  0.22259236 0.21625548 0.22008766 0.22822793 0.22860363\n",
            " 0.2272511  0.22304321 0.22567314 0.22038823 0.22001252 0.21730745\n",
            " 0.21592987 0.21618034 0.21725736 0.21462743 0.21460769 0.21336676\n",
            " 0.21206936 0.21073624 0.20937856 0.20800294]\n",
            "6 day output [[0.20661408]]\n",
            "7 day input [0.16944271 0.17282405 0.17630557 0.18604884 0.17417658 0.17976205\n",
            " 0.18371947 0.19356293 0.20240451 0.20295554 0.20693801 0.20753914\n",
            " 0.19053225 0.17713212 0.17868503 0.18164058 0.17397621 0.16874139\n",
            " 0.17257358 0.17074515 0.17815905 0.18091421 0.1719474  0.16804008\n",
            " 0.17019411 0.17342517 0.16310582 0.15927364 0.15992486 0.1612273\n",
            " 0.16758923 0.16420789 0.16736381 0.17049468 0.17695679 0.18071384\n",
            " 0.17921102 0.18274264 0.18502192 0.18036318 0.18003757 0.1761052\n",
            " 0.17282405 0.17187226 0.16541014 0.16571071 0.16681277 0.16095178\n",
            " 0.15040701 0.15373826 0.15892298 0.16012523 0.16814026 0.17715717\n",
            " 0.17485285 0.18131497 0.18780213 0.19048215 0.1892799  0.19927364\n",
            " 0.19526612 0.20187852 0.2033062  0.20756418 0.20751409 0.21192235\n",
            " 0.20989355 0.2115717  0.2082154  0.20776456 0.20929242 0.20671259\n",
            " 0.20816531 0.21139637 0.20686287 0.21685661 0.21410144 0.2189856\n",
            " 0.22259236 0.21625548 0.22008766 0.22822793 0.22860363 0.2272511\n",
            " 0.22304321 0.22567314 0.22038823 0.22001252 0.21730745 0.21592987\n",
            " 0.21618034 0.21725736 0.21462743 0.21460769 0.21336676 0.21206936\n",
            " 0.21073624 0.20937856 0.20800294 0.20661408]\n",
            "7 day output [[0.20521538]]\n",
            "8 day input [0.17282405 0.17630557 0.18604884 0.17417658 0.17976205 0.18371947\n",
            " 0.19356293 0.20240451 0.20295554 0.20693801 0.20753914 0.19053225\n",
            " 0.17713212 0.17868503 0.18164058 0.17397621 0.16874139 0.17257358\n",
            " 0.17074515 0.17815905 0.18091421 0.1719474  0.16804008 0.17019411\n",
            " 0.17342517 0.16310582 0.15927364 0.15992486 0.1612273  0.16758923\n",
            " 0.16420789 0.16736381 0.17049468 0.17695679 0.18071384 0.17921102\n",
            " 0.18274264 0.18502192 0.18036318 0.18003757 0.1761052  0.17282405\n",
            " 0.17187226 0.16541014 0.16571071 0.16681277 0.16095178 0.15040701\n",
            " 0.15373826 0.15892298 0.16012523 0.16814026 0.17715717 0.17485285\n",
            " 0.18131497 0.18780213 0.19048215 0.1892799  0.19927364 0.19526612\n",
            " 0.20187852 0.2033062  0.20756418 0.20751409 0.21192235 0.20989355\n",
            " 0.2115717  0.2082154  0.20776456 0.20929242 0.20671259 0.20816531\n",
            " 0.21139637 0.20686287 0.21685661 0.21410144 0.2189856  0.22259236\n",
            " 0.21625548 0.22008766 0.22822793 0.22860363 0.2272511  0.22304321\n",
            " 0.22567314 0.22038823 0.22001252 0.21730745 0.21592987 0.21618034\n",
            " 0.21725736 0.21462743 0.21460769 0.21336676 0.21206936 0.21073624\n",
            " 0.20937856 0.20800294 0.20661408 0.20521538]\n",
            "8 day output [[0.20380972]]\n",
            "9 day input [0.17630557 0.18604884 0.17417658 0.17976205 0.18371947 0.19356293\n",
            " 0.20240451 0.20295554 0.20693801 0.20753914 0.19053225 0.17713212\n",
            " 0.17868503 0.18164058 0.17397621 0.16874139 0.17257358 0.17074515\n",
            " 0.17815905 0.18091421 0.1719474  0.16804008 0.17019411 0.17342517\n",
            " 0.16310582 0.15927364 0.15992486 0.1612273  0.16758923 0.16420789\n",
            " 0.16736381 0.17049468 0.17695679 0.18071384 0.17921102 0.18274264\n",
            " 0.18502192 0.18036318 0.18003757 0.1761052  0.17282405 0.17187226\n",
            " 0.16541014 0.16571071 0.16681277 0.16095178 0.15040701 0.15373826\n",
            " 0.15892298 0.16012523 0.16814026 0.17715717 0.17485285 0.18131497\n",
            " 0.18780213 0.19048215 0.1892799  0.19927364 0.19526612 0.20187852\n",
            " 0.2033062  0.20756418 0.20751409 0.21192235 0.20989355 0.2115717\n",
            " 0.2082154  0.20776456 0.20929242 0.20671259 0.20816531 0.21139637\n",
            " 0.20686287 0.21685661 0.21410144 0.2189856  0.22259236 0.21625548\n",
            " 0.22008766 0.22822793 0.22860363 0.2272511  0.22304321 0.22567314\n",
            " 0.22038823 0.22001252 0.21730745 0.21592987 0.21618034 0.21725736\n",
            " 0.21462743 0.21460769 0.21336676 0.21206936 0.21073624 0.20937856\n",
            " 0.20800294 0.20661408 0.20521538 0.20380972]\n",
            "9 day output [[0.2023988]]\n",
            "10 day input [0.18604884 0.17417658 0.17976205 0.18371947 0.19356293 0.20240451\n",
            " 0.20295554 0.20693801 0.20753914 0.19053225 0.17713212 0.17868503\n",
            " 0.18164058 0.17397621 0.16874139 0.17257358 0.17074515 0.17815905\n",
            " 0.18091421 0.1719474  0.16804008 0.17019411 0.17342517 0.16310582\n",
            " 0.15927364 0.15992486 0.1612273  0.16758923 0.16420789 0.16736381\n",
            " 0.17049468 0.17695679 0.18071384 0.17921102 0.18274264 0.18502192\n",
            " 0.18036318 0.18003757 0.1761052  0.17282405 0.17187226 0.16541014\n",
            " 0.16571071 0.16681277 0.16095178 0.15040701 0.15373826 0.15892298\n",
            " 0.16012523 0.16814026 0.17715717 0.17485285 0.18131497 0.18780213\n",
            " 0.19048215 0.1892799  0.19927364 0.19526612 0.20187852 0.2033062\n",
            " 0.20756418 0.20751409 0.21192235 0.20989355 0.2115717  0.2082154\n",
            " 0.20776456 0.20929242 0.20671259 0.20816531 0.21139637 0.20686287\n",
            " 0.21685661 0.21410144 0.2189856  0.22259236 0.21625548 0.22008766\n",
            " 0.22822793 0.22860363 0.2272511  0.22304321 0.22567314 0.22038823\n",
            " 0.22001252 0.21730745 0.21592987 0.21618034 0.21725736 0.21462743\n",
            " 0.21460769 0.21336676 0.21206936 0.21073624 0.20937856 0.20800294\n",
            " 0.20661408 0.20521538 0.20380972 0.20239881]\n",
            "10 day output [[0.20098384]]\n",
            "11 day input [0.17417658 0.17976205 0.18371947 0.19356293 0.20240451 0.20295554\n",
            " 0.20693801 0.20753914 0.19053225 0.17713212 0.17868503 0.18164058\n",
            " 0.17397621 0.16874139 0.17257358 0.17074515 0.17815905 0.18091421\n",
            " 0.1719474  0.16804008 0.17019411 0.17342517 0.16310582 0.15927364\n",
            " 0.15992486 0.1612273  0.16758923 0.16420789 0.16736381 0.17049468\n",
            " 0.17695679 0.18071384 0.17921102 0.18274264 0.18502192 0.18036318\n",
            " 0.18003757 0.1761052  0.17282405 0.17187226 0.16541014 0.16571071\n",
            " 0.16681277 0.16095178 0.15040701 0.15373826 0.15892298 0.16012523\n",
            " 0.16814026 0.17715717 0.17485285 0.18131497 0.18780213 0.19048215\n",
            " 0.1892799  0.19927364 0.19526612 0.20187852 0.2033062  0.20756418\n",
            " 0.20751409 0.21192235 0.20989355 0.2115717  0.2082154  0.20776456\n",
            " 0.20929242 0.20671259 0.20816531 0.21139637 0.20686287 0.21685661\n",
            " 0.21410144 0.2189856  0.22259236 0.21625548 0.22008766 0.22822793\n",
            " 0.22860363 0.2272511  0.22304321 0.22567314 0.22038823 0.22001252\n",
            " 0.21730745 0.21592987 0.21618034 0.21725736 0.21462743 0.21460769\n",
            " 0.21336676 0.21206936 0.21073624 0.20937856 0.20800294 0.20661408\n",
            " 0.20521538 0.20380972 0.20239881 0.20098384]\n",
            "11 day output [[0.19956507]]\n",
            "12 day input [0.17976205 0.18371947 0.19356293 0.20240451 0.20295554 0.20693801\n",
            " 0.20753914 0.19053225 0.17713212 0.17868503 0.18164058 0.17397621\n",
            " 0.16874139 0.17257358 0.17074515 0.17815905 0.18091421 0.1719474\n",
            " 0.16804008 0.17019411 0.17342517 0.16310582 0.15927364 0.15992486\n",
            " 0.1612273  0.16758923 0.16420789 0.16736381 0.17049468 0.17695679\n",
            " 0.18071384 0.17921102 0.18274264 0.18502192 0.18036318 0.18003757\n",
            " 0.1761052  0.17282405 0.17187226 0.16541014 0.16571071 0.16681277\n",
            " 0.16095178 0.15040701 0.15373826 0.15892298 0.16012523 0.16814026\n",
            " 0.17715717 0.17485285 0.18131497 0.18780213 0.19048215 0.1892799\n",
            " 0.19927364 0.19526612 0.20187852 0.2033062  0.20756418 0.20751409\n",
            " 0.21192235 0.20989355 0.2115717  0.2082154  0.20776456 0.20929242\n",
            " 0.20671259 0.20816531 0.21139637 0.20686287 0.21685661 0.21410144\n",
            " 0.2189856  0.22259236 0.21625548 0.22008766 0.22822793 0.22860363\n",
            " 0.2272511  0.22304321 0.22567314 0.22038823 0.22001252 0.21730745\n",
            " 0.21592987 0.21618034 0.21725736 0.21462743 0.21460769 0.21336676\n",
            " 0.21206936 0.21073624 0.20937856 0.20800294 0.20661408 0.20521538\n",
            " 0.20380972 0.20239881 0.20098384 0.19956507]\n",
            "12 day output [[0.19814216]]\n",
            "13 day input [0.18371947 0.19356293 0.20240451 0.20295554 0.20693801 0.20753914\n",
            " 0.19053225 0.17713212 0.17868503 0.18164058 0.17397621 0.16874139\n",
            " 0.17257358 0.17074515 0.17815905 0.18091421 0.1719474  0.16804008\n",
            " 0.17019411 0.17342517 0.16310582 0.15927364 0.15992486 0.1612273\n",
            " 0.16758923 0.16420789 0.16736381 0.17049468 0.17695679 0.18071384\n",
            " 0.17921102 0.18274264 0.18502192 0.18036318 0.18003757 0.1761052\n",
            " 0.17282405 0.17187226 0.16541014 0.16571071 0.16681277 0.16095178\n",
            " 0.15040701 0.15373826 0.15892298 0.16012523 0.16814026 0.17715717\n",
            " 0.17485285 0.18131497 0.18780213 0.19048215 0.1892799  0.19927364\n",
            " 0.19526612 0.20187852 0.2033062  0.20756418 0.20751409 0.21192235\n",
            " 0.20989355 0.2115717  0.2082154  0.20776456 0.20929242 0.20671259\n",
            " 0.20816531 0.21139637 0.20686287 0.21685661 0.21410144 0.2189856\n",
            " 0.22259236 0.21625548 0.22008766 0.22822793 0.22860363 0.2272511\n",
            " 0.22304321 0.22567314 0.22038823 0.22001252 0.21730745 0.21592987\n",
            " 0.21618034 0.21725736 0.21462743 0.21460769 0.21336676 0.21206936\n",
            " 0.21073624 0.20937856 0.20800294 0.20661408 0.20521538 0.20380972\n",
            " 0.20239881 0.20098384 0.19956507 0.19814216]\n",
            "13 day output [[0.19671403]]\n",
            "14 day input [0.19356293 0.20240451 0.20295554 0.20693801 0.20753914 0.19053225\n",
            " 0.17713212 0.17868503 0.18164058 0.17397621 0.16874139 0.17257358\n",
            " 0.17074515 0.17815905 0.18091421 0.1719474  0.16804008 0.17019411\n",
            " 0.17342517 0.16310582 0.15927364 0.15992486 0.1612273  0.16758923\n",
            " 0.16420789 0.16736381 0.17049468 0.17695679 0.18071384 0.17921102\n",
            " 0.18274264 0.18502192 0.18036318 0.18003757 0.1761052  0.17282405\n",
            " 0.17187226 0.16541014 0.16571071 0.16681277 0.16095178 0.15040701\n",
            " 0.15373826 0.15892298 0.16012523 0.16814026 0.17715717 0.17485285\n",
            " 0.18131497 0.18780213 0.19048215 0.1892799  0.19927364 0.19526612\n",
            " 0.20187852 0.2033062  0.20756418 0.20751409 0.21192235 0.20989355\n",
            " 0.2115717  0.2082154  0.20776456 0.20929242 0.20671259 0.20816531\n",
            " 0.21139637 0.20686287 0.21685661 0.21410144 0.2189856  0.22259236\n",
            " 0.21625548 0.22008766 0.22822793 0.22860363 0.2272511  0.22304321\n",
            " 0.22567314 0.22038823 0.22001252 0.21730745 0.21592987 0.21618034\n",
            " 0.21725736 0.21462743 0.21460769 0.21336676 0.21206936 0.21073624\n",
            " 0.20937856 0.20800294 0.20661408 0.20521538 0.20380972 0.20239881\n",
            " 0.20098384 0.19956507 0.19814216 0.19671403]\n",
            "14 day output [[0.19527918]]\n",
            "15 day input [0.20240451 0.20295554 0.20693801 0.20753914 0.19053225 0.17713212\n",
            " 0.17868503 0.18164058 0.17397621 0.16874139 0.17257358 0.17074515\n",
            " 0.17815905 0.18091421 0.1719474  0.16804008 0.17019411 0.17342517\n",
            " 0.16310582 0.15927364 0.15992486 0.1612273  0.16758923 0.16420789\n",
            " 0.16736381 0.17049468 0.17695679 0.18071384 0.17921102 0.18274264\n",
            " 0.18502192 0.18036318 0.18003757 0.1761052  0.17282405 0.17187226\n",
            " 0.16541014 0.16571071 0.16681277 0.16095178 0.15040701 0.15373826\n",
            " 0.15892298 0.16012523 0.16814026 0.17715717 0.17485285 0.18131497\n",
            " 0.18780213 0.19048215 0.1892799  0.19927364 0.19526612 0.20187852\n",
            " 0.2033062  0.20756418 0.20751409 0.21192235 0.20989355 0.2115717\n",
            " 0.2082154  0.20776456 0.20929242 0.20671259 0.20816531 0.21139637\n",
            " 0.20686287 0.21685661 0.21410144 0.2189856  0.22259236 0.21625548\n",
            " 0.22008766 0.22822793 0.22860363 0.2272511  0.22304321 0.22567314\n",
            " 0.22038823 0.22001252 0.21730745 0.21592987 0.21618034 0.21725736\n",
            " 0.21462743 0.21460769 0.21336676 0.21206936 0.21073624 0.20937856\n",
            " 0.20800294 0.20661408 0.20521538 0.20380972 0.20239881 0.20098384\n",
            " 0.19956507 0.19814216 0.19671403 0.19527918]\n",
            "15 day output [[0.19383587]]\n",
            "16 day input [0.20295554 0.20693801 0.20753914 0.19053225 0.17713212 0.17868503\n",
            " 0.18164058 0.17397621 0.16874139 0.17257358 0.17074515 0.17815905\n",
            " 0.18091421 0.1719474  0.16804008 0.17019411 0.17342517 0.16310582\n",
            " 0.15927364 0.15992486 0.1612273  0.16758923 0.16420789 0.16736381\n",
            " 0.17049468 0.17695679 0.18071384 0.17921102 0.18274264 0.18502192\n",
            " 0.18036318 0.18003757 0.1761052  0.17282405 0.17187226 0.16541014\n",
            " 0.16571071 0.16681277 0.16095178 0.15040701 0.15373826 0.15892298\n",
            " 0.16012523 0.16814026 0.17715717 0.17485285 0.18131497 0.18780213\n",
            " 0.19048215 0.1892799  0.19927364 0.19526612 0.20187852 0.2033062\n",
            " 0.20756418 0.20751409 0.21192235 0.20989355 0.2115717  0.2082154\n",
            " 0.20776456 0.20929242 0.20671259 0.20816531 0.21139637 0.20686287\n",
            " 0.21685661 0.21410144 0.2189856  0.22259236 0.21625548 0.22008766\n",
            " 0.22822793 0.22860363 0.2272511  0.22304321 0.22567314 0.22038823\n",
            " 0.22001252 0.21730745 0.21592987 0.21618034 0.21725736 0.21462743\n",
            " 0.21460769 0.21336676 0.21206936 0.21073624 0.20937856 0.20800294\n",
            " 0.20661408 0.20521538 0.20380972 0.20239881 0.20098384 0.19956507\n",
            " 0.19814216 0.19671403 0.19527918 0.19383587]\n",
            "16 day output [[0.19238237]]\n",
            "17 day input [0.20693801 0.20753914 0.19053225 0.17713212 0.17868503 0.18164058\n",
            " 0.17397621 0.16874139 0.17257358 0.17074515 0.17815905 0.18091421\n",
            " 0.1719474  0.16804008 0.17019411 0.17342517 0.16310582 0.15927364\n",
            " 0.15992486 0.1612273  0.16758923 0.16420789 0.16736381 0.17049468\n",
            " 0.17695679 0.18071384 0.17921102 0.18274264 0.18502192 0.18036318\n",
            " 0.18003757 0.1761052  0.17282405 0.17187226 0.16541014 0.16571071\n",
            " 0.16681277 0.16095178 0.15040701 0.15373826 0.15892298 0.16012523\n",
            " 0.16814026 0.17715717 0.17485285 0.18131497 0.18780213 0.19048215\n",
            " 0.1892799  0.19927364 0.19526612 0.20187852 0.2033062  0.20756418\n",
            " 0.20751409 0.21192235 0.20989355 0.2115717  0.2082154  0.20776456\n",
            " 0.20929242 0.20671259 0.20816531 0.21139637 0.20686287 0.21685661\n",
            " 0.21410144 0.2189856  0.22259236 0.21625548 0.22008766 0.22822793\n",
            " 0.22860363 0.2272511  0.22304321 0.22567314 0.22038823 0.22001252\n",
            " 0.21730745 0.21592987 0.21618034 0.21725736 0.21462743 0.21460769\n",
            " 0.21336676 0.21206936 0.21073624 0.20937856 0.20800294 0.20661408\n",
            " 0.20521538 0.20380972 0.20239881 0.20098384 0.19956507 0.19814216\n",
            " 0.19671403 0.19527918 0.19383587 0.19238237]\n",
            "17 day output [[0.190917]]\n",
            "18 day input [0.20753914 0.19053225 0.17713212 0.17868503 0.18164058 0.17397621\n",
            " 0.16874139 0.17257358 0.17074515 0.17815905 0.18091421 0.1719474\n",
            " 0.16804008 0.17019411 0.17342517 0.16310582 0.15927364 0.15992486\n",
            " 0.1612273  0.16758923 0.16420789 0.16736381 0.17049468 0.17695679\n",
            " 0.18071384 0.17921102 0.18274264 0.18502192 0.18036318 0.18003757\n",
            " 0.1761052  0.17282405 0.17187226 0.16541014 0.16571071 0.16681277\n",
            " 0.16095178 0.15040701 0.15373826 0.15892298 0.16012523 0.16814026\n",
            " 0.17715717 0.17485285 0.18131497 0.18780213 0.19048215 0.1892799\n",
            " 0.19927364 0.19526612 0.20187852 0.2033062  0.20756418 0.20751409\n",
            " 0.21192235 0.20989355 0.2115717  0.2082154  0.20776456 0.20929242\n",
            " 0.20671259 0.20816531 0.21139637 0.20686287 0.21685661 0.21410144\n",
            " 0.2189856  0.22259236 0.21625548 0.22008766 0.22822793 0.22860363\n",
            " 0.2272511  0.22304321 0.22567314 0.22038823 0.22001252 0.21730745\n",
            " 0.21592987 0.21618034 0.21725736 0.21462743 0.21460769 0.21336676\n",
            " 0.21206936 0.21073624 0.20937856 0.20800294 0.20661408 0.20521538\n",
            " 0.20380972 0.20239881 0.20098384 0.19956507 0.19814216 0.19671403\n",
            " 0.19527918 0.19383587 0.19238237 0.190917  ]\n",
            "18 day output [[0.18943797]]\n",
            "19 day input [0.19053225 0.17713212 0.17868503 0.18164058 0.17397621 0.16874139\n",
            " 0.17257358 0.17074515 0.17815905 0.18091421 0.1719474  0.16804008\n",
            " 0.17019411 0.17342517 0.16310582 0.15927364 0.15992486 0.1612273\n",
            " 0.16758923 0.16420789 0.16736381 0.17049468 0.17695679 0.18071384\n",
            " 0.17921102 0.18274264 0.18502192 0.18036318 0.18003757 0.1761052\n",
            " 0.17282405 0.17187226 0.16541014 0.16571071 0.16681277 0.16095178\n",
            " 0.15040701 0.15373826 0.15892298 0.16012523 0.16814026 0.17715717\n",
            " 0.17485285 0.18131497 0.18780213 0.19048215 0.1892799  0.19927364\n",
            " 0.19526612 0.20187852 0.2033062  0.20756418 0.20751409 0.21192235\n",
            " 0.20989355 0.2115717  0.2082154  0.20776456 0.20929242 0.20671259\n",
            " 0.20816531 0.21139637 0.20686287 0.21685661 0.21410144 0.2189856\n",
            " 0.22259236 0.21625548 0.22008766 0.22822793 0.22860363 0.2272511\n",
            " 0.22304321 0.22567314 0.22038823 0.22001252 0.21730745 0.21592987\n",
            " 0.21618034 0.21725736 0.21462743 0.21460769 0.21336676 0.21206936\n",
            " 0.21073624 0.20937856 0.20800294 0.20661408 0.20521538 0.20380972\n",
            " 0.20239881 0.20098384 0.19956507 0.19814216 0.19671403 0.19527918\n",
            " 0.19383587 0.19238237 0.190917   0.18943797]\n",
            "19 day output [[0.18794397]]\n",
            "20 day input [0.17713212 0.17868503 0.18164058 0.17397621 0.16874139 0.17257358\n",
            " 0.17074515 0.17815905 0.18091421 0.1719474  0.16804008 0.17019411\n",
            " 0.17342517 0.16310582 0.15927364 0.15992486 0.1612273  0.16758923\n",
            " 0.16420789 0.16736381 0.17049468 0.17695679 0.18071384 0.17921102\n",
            " 0.18274264 0.18502192 0.18036318 0.18003757 0.1761052  0.17282405\n",
            " 0.17187226 0.16541014 0.16571071 0.16681277 0.16095178 0.15040701\n",
            " 0.15373826 0.15892298 0.16012523 0.16814026 0.17715717 0.17485285\n",
            " 0.18131497 0.18780213 0.19048215 0.1892799  0.19927364 0.19526612\n",
            " 0.20187852 0.2033062  0.20756418 0.20751409 0.21192235 0.20989355\n",
            " 0.2115717  0.2082154  0.20776456 0.20929242 0.20671259 0.20816531\n",
            " 0.21139637 0.20686287 0.21685661 0.21410144 0.2189856  0.22259236\n",
            " 0.21625548 0.22008766 0.22822793 0.22860363 0.2272511  0.22304321\n",
            " 0.22567314 0.22038823 0.22001252 0.21730745 0.21592987 0.21618034\n",
            " 0.21725736 0.21462743 0.21460769 0.21336676 0.21206936 0.21073624\n",
            " 0.20937856 0.20800294 0.20661408 0.20521538 0.20380972 0.20239881\n",
            " 0.20098384 0.19956507 0.19814216 0.19671403 0.19527918 0.19383587\n",
            " 0.19238237 0.190917   0.18943797 0.18794397]\n",
            "20 day output [[0.18643384]]\n",
            "21 day input [0.17868503 0.18164058 0.17397621 0.16874139 0.17257358 0.17074515\n",
            " 0.17815905 0.18091421 0.1719474  0.16804008 0.17019411 0.17342517\n",
            " 0.16310582 0.15927364 0.15992486 0.1612273  0.16758923 0.16420789\n",
            " 0.16736381 0.17049468 0.17695679 0.18071384 0.17921102 0.18274264\n",
            " 0.18502192 0.18036318 0.18003757 0.1761052  0.17282405 0.17187226\n",
            " 0.16541014 0.16571071 0.16681277 0.16095178 0.15040701 0.15373826\n",
            " 0.15892298 0.16012523 0.16814026 0.17715717 0.17485285 0.18131497\n",
            " 0.18780213 0.19048215 0.1892799  0.19927364 0.19526612 0.20187852\n",
            " 0.2033062  0.20756418 0.20751409 0.21192235 0.20989355 0.2115717\n",
            " 0.2082154  0.20776456 0.20929242 0.20671259 0.20816531 0.21139637\n",
            " 0.20686287 0.21685661 0.21410144 0.2189856  0.22259236 0.21625548\n",
            " 0.22008766 0.22822793 0.22860363 0.2272511  0.22304321 0.22567314\n",
            " 0.22038823 0.22001252 0.21730745 0.21592987 0.21618034 0.21725736\n",
            " 0.21462743 0.21460769 0.21336676 0.21206936 0.21073624 0.20937856\n",
            " 0.20800294 0.20661408 0.20521538 0.20380972 0.20239881 0.20098384\n",
            " 0.19956507 0.19814216 0.19671403 0.19527918 0.19383587 0.19238237\n",
            " 0.190917   0.18943797 0.18794397 0.18643384]\n",
            "21 day output [[0.18490659]]\n",
            "22 day input [0.18164058 0.17397621 0.16874139 0.17257358 0.17074515 0.17815905\n",
            " 0.18091421 0.1719474  0.16804008 0.17019411 0.17342517 0.16310582\n",
            " 0.15927364 0.15992486 0.1612273  0.16758923 0.16420789 0.16736381\n",
            " 0.17049468 0.17695679 0.18071384 0.17921102 0.18274264 0.18502192\n",
            " 0.18036318 0.18003757 0.1761052  0.17282405 0.17187226 0.16541014\n",
            " 0.16571071 0.16681277 0.16095178 0.15040701 0.15373826 0.15892298\n",
            " 0.16012523 0.16814026 0.17715717 0.17485285 0.18131497 0.18780213\n",
            " 0.19048215 0.1892799  0.19927364 0.19526612 0.20187852 0.2033062\n",
            " 0.20756418 0.20751409 0.21192235 0.20989355 0.2115717  0.2082154\n",
            " 0.20776456 0.20929242 0.20671259 0.20816531 0.21139637 0.20686287\n",
            " 0.21685661 0.21410144 0.2189856  0.22259236 0.21625548 0.22008766\n",
            " 0.22822793 0.22860363 0.2272511  0.22304321 0.22567314 0.22038823\n",
            " 0.22001252 0.21730745 0.21592987 0.21618034 0.21725736 0.21462743\n",
            " 0.21460769 0.21336676 0.21206936 0.21073624 0.20937856 0.20800294\n",
            " 0.20661408 0.20521538 0.20380972 0.20239881 0.20098384 0.19956507\n",
            " 0.19814216 0.19671403 0.19527918 0.19383587 0.19238237 0.190917\n",
            " 0.18943797 0.18794397 0.18643384 0.18490659]\n",
            "22 day output [[0.18336152]]\n",
            "23 day input [0.17397621 0.16874139 0.17257358 0.17074515 0.17815905 0.18091421\n",
            " 0.1719474  0.16804008 0.17019411 0.17342517 0.16310582 0.15927364\n",
            " 0.15992486 0.1612273  0.16758923 0.16420789 0.16736381 0.17049468\n",
            " 0.17695679 0.18071384 0.17921102 0.18274264 0.18502192 0.18036318\n",
            " 0.18003757 0.1761052  0.17282405 0.17187226 0.16541014 0.16571071\n",
            " 0.16681277 0.16095178 0.15040701 0.15373826 0.15892298 0.16012523\n",
            " 0.16814026 0.17715717 0.17485285 0.18131497 0.18780213 0.19048215\n",
            " 0.1892799  0.19927364 0.19526612 0.20187852 0.2033062  0.20756418\n",
            " 0.20751409 0.21192235 0.20989355 0.2115717  0.2082154  0.20776456\n",
            " 0.20929242 0.20671259 0.20816531 0.21139637 0.20686287 0.21685661\n",
            " 0.21410144 0.2189856  0.22259236 0.21625548 0.22008766 0.22822793\n",
            " 0.22860363 0.2272511  0.22304321 0.22567314 0.22038823 0.22001252\n",
            " 0.21730745 0.21592987 0.21618034 0.21725736 0.21462743 0.21460769\n",
            " 0.21336676 0.21206936 0.21073624 0.20937856 0.20800294 0.20661408\n",
            " 0.20521538 0.20380972 0.20239881 0.20098384 0.19956507 0.19814216\n",
            " 0.19671403 0.19527918 0.19383587 0.19238237 0.190917   0.18943797\n",
            " 0.18794397 0.18643384 0.18490659 0.18336152]\n",
            "23 day output [[0.18179822]]\n",
            "24 day input [0.16874139 0.17257358 0.17074515 0.17815905 0.18091421 0.1719474\n",
            " 0.16804008 0.17019411 0.17342517 0.16310582 0.15927364 0.15992486\n",
            " 0.1612273  0.16758923 0.16420789 0.16736381 0.17049468 0.17695679\n",
            " 0.18071384 0.17921102 0.18274264 0.18502192 0.18036318 0.18003757\n",
            " 0.1761052  0.17282405 0.17187226 0.16541014 0.16571071 0.16681277\n",
            " 0.16095178 0.15040701 0.15373826 0.15892298 0.16012523 0.16814026\n",
            " 0.17715717 0.17485285 0.18131497 0.18780213 0.19048215 0.1892799\n",
            " 0.19927364 0.19526612 0.20187852 0.2033062  0.20756418 0.20751409\n",
            " 0.21192235 0.20989355 0.2115717  0.2082154  0.20776456 0.20929242\n",
            " 0.20671259 0.20816531 0.21139637 0.20686287 0.21685661 0.21410144\n",
            " 0.2189856  0.22259236 0.21625548 0.22008766 0.22822793 0.22860363\n",
            " 0.2272511  0.22304321 0.22567314 0.22038823 0.22001252 0.21730745\n",
            " 0.21592987 0.21618034 0.21725736 0.21462743 0.21460769 0.21336676\n",
            " 0.21206936 0.21073624 0.20937856 0.20800294 0.20661408 0.20521538\n",
            " 0.20380972 0.20239881 0.20098384 0.19956507 0.19814216 0.19671403\n",
            " 0.19527918 0.19383587 0.19238237 0.190917   0.18943797 0.18794397\n",
            " 0.18643384 0.18490659 0.18336152 0.18179822]\n",
            "24 day output [[0.18021694]]\n",
            "25 day input [0.17257358 0.17074515 0.17815905 0.18091421 0.1719474  0.16804008\n",
            " 0.17019411 0.17342517 0.16310582 0.15927364 0.15992486 0.1612273\n",
            " 0.16758923 0.16420789 0.16736381 0.17049468 0.17695679 0.18071384\n",
            " 0.17921102 0.18274264 0.18502192 0.18036318 0.18003757 0.1761052\n",
            " 0.17282405 0.17187226 0.16541014 0.16571071 0.16681277 0.16095178\n",
            " 0.15040701 0.15373826 0.15892298 0.16012523 0.16814026 0.17715717\n",
            " 0.17485285 0.18131497 0.18780213 0.19048215 0.1892799  0.19927364\n",
            " 0.19526612 0.20187852 0.2033062  0.20756418 0.20751409 0.21192235\n",
            " 0.20989355 0.2115717  0.2082154  0.20776456 0.20929242 0.20671259\n",
            " 0.20816531 0.21139637 0.20686287 0.21685661 0.21410144 0.2189856\n",
            " 0.22259236 0.21625548 0.22008766 0.22822793 0.22860363 0.2272511\n",
            " 0.22304321 0.22567314 0.22038823 0.22001252 0.21730745 0.21592987\n",
            " 0.21618034 0.21725736 0.21462743 0.21460769 0.21336676 0.21206936\n",
            " 0.21073624 0.20937856 0.20800294 0.20661408 0.20521538 0.20380972\n",
            " 0.20239881 0.20098384 0.19956507 0.19814216 0.19671403 0.19527918\n",
            " 0.19383587 0.19238237 0.190917   0.18943797 0.18794397 0.18643384\n",
            " 0.18490659 0.18336152 0.18179822 0.18021694]\n",
            "25 day output [[0.1786179]]\n",
            "26 day input [0.17074515 0.17815905 0.18091421 0.1719474  0.16804008 0.17019411\n",
            " 0.17342517 0.16310582 0.15927364 0.15992486 0.1612273  0.16758923\n",
            " 0.16420789 0.16736381 0.17049468 0.17695679 0.18071384 0.17921102\n",
            " 0.18274264 0.18502192 0.18036318 0.18003757 0.1761052  0.17282405\n",
            " 0.17187226 0.16541014 0.16571071 0.16681277 0.16095178 0.15040701\n",
            " 0.15373826 0.15892298 0.16012523 0.16814026 0.17715717 0.17485285\n",
            " 0.18131497 0.18780213 0.19048215 0.1892799  0.19927364 0.19526612\n",
            " 0.20187852 0.2033062  0.20756418 0.20751409 0.21192235 0.20989355\n",
            " 0.2115717  0.2082154  0.20776456 0.20929242 0.20671259 0.20816531\n",
            " 0.21139637 0.20686287 0.21685661 0.21410144 0.2189856  0.22259236\n",
            " 0.21625548 0.22008766 0.22822793 0.22860363 0.2272511  0.22304321\n",
            " 0.22567314 0.22038823 0.22001252 0.21730745 0.21592987 0.21618034\n",
            " 0.21725736 0.21462743 0.21460769 0.21336676 0.21206936 0.21073624\n",
            " 0.20937856 0.20800294 0.20661408 0.20521538 0.20380972 0.20239881\n",
            " 0.20098384 0.19956507 0.19814216 0.19671403 0.19527918 0.19383587\n",
            " 0.19238237 0.190917   0.18943797 0.18794397 0.18643384 0.18490659\n",
            " 0.18336152 0.18179822 0.18021694 0.17861789]\n",
            "26 day output [[0.17700152]]\n",
            "27 day input [0.17815905 0.18091421 0.1719474  0.16804008 0.17019411 0.17342517\n",
            " 0.16310582 0.15927364 0.15992486 0.1612273  0.16758923 0.16420789\n",
            " 0.16736381 0.17049468 0.17695679 0.18071384 0.17921102 0.18274264\n",
            " 0.18502192 0.18036318 0.18003757 0.1761052  0.17282405 0.17187226\n",
            " 0.16541014 0.16571071 0.16681277 0.16095178 0.15040701 0.15373826\n",
            " 0.15892298 0.16012523 0.16814026 0.17715717 0.17485285 0.18131497\n",
            " 0.18780213 0.19048215 0.1892799  0.19927364 0.19526612 0.20187852\n",
            " 0.2033062  0.20756418 0.20751409 0.21192235 0.20989355 0.2115717\n",
            " 0.2082154  0.20776456 0.20929242 0.20671259 0.20816531 0.21139637\n",
            " 0.20686287 0.21685661 0.21410144 0.2189856  0.22259236 0.21625548\n",
            " 0.22008766 0.22822793 0.22860363 0.2272511  0.22304321 0.22567314\n",
            " 0.22038823 0.22001252 0.21730745 0.21592987 0.21618034 0.21725736\n",
            " 0.21462743 0.21460769 0.21336676 0.21206936 0.21073624 0.20937856\n",
            " 0.20800294 0.20661408 0.20521538 0.20380972 0.20239881 0.20098384\n",
            " 0.19956507 0.19814216 0.19671403 0.19527918 0.19383587 0.19238237\n",
            " 0.190917   0.18943797 0.18794397 0.18643384 0.18490659 0.18336152\n",
            " 0.18179822 0.18021694 0.17861789 0.17700152]\n",
            "27 day output [[0.17536862]]\n",
            "28 day input [0.18091421 0.1719474  0.16804008 0.17019411 0.17342517 0.16310582\n",
            " 0.15927364 0.15992486 0.1612273  0.16758923 0.16420789 0.16736381\n",
            " 0.17049468 0.17695679 0.18071384 0.17921102 0.18274264 0.18502192\n",
            " 0.18036318 0.18003757 0.1761052  0.17282405 0.17187226 0.16541014\n",
            " 0.16571071 0.16681277 0.16095178 0.15040701 0.15373826 0.15892298\n",
            " 0.16012523 0.16814026 0.17715717 0.17485285 0.18131497 0.18780213\n",
            " 0.19048215 0.1892799  0.19927364 0.19526612 0.20187852 0.2033062\n",
            " 0.20756418 0.20751409 0.21192235 0.20989355 0.2115717  0.2082154\n",
            " 0.20776456 0.20929242 0.20671259 0.20816531 0.21139637 0.20686287\n",
            " 0.21685661 0.21410144 0.2189856  0.22259236 0.21625548 0.22008766\n",
            " 0.22822793 0.22860363 0.2272511  0.22304321 0.22567314 0.22038823\n",
            " 0.22001252 0.21730745 0.21592987 0.21618034 0.21725736 0.21462743\n",
            " 0.21460769 0.21336676 0.21206936 0.21073624 0.20937856 0.20800294\n",
            " 0.20661408 0.20521538 0.20380972 0.20239881 0.20098384 0.19956507\n",
            " 0.19814216 0.19671403 0.19527918 0.19383587 0.19238237 0.190917\n",
            " 0.18943797 0.18794397 0.18643384 0.18490659 0.18336152 0.18179822\n",
            " 0.18021694 0.17861789 0.17700152 0.17536862]\n",
            "28 day output [[0.17372003]]\n",
            "29 day input [0.1719474  0.16804008 0.17019411 0.17342517 0.16310582 0.15927364\n",
            " 0.15992486 0.1612273  0.16758923 0.16420789 0.16736381 0.17049468\n",
            " 0.17695679 0.18071384 0.17921102 0.18274264 0.18502192 0.18036318\n",
            " 0.18003757 0.1761052  0.17282405 0.17187226 0.16541014 0.16571071\n",
            " 0.16681277 0.16095178 0.15040701 0.15373826 0.15892298 0.16012523\n",
            " 0.16814026 0.17715717 0.17485285 0.18131497 0.18780213 0.19048215\n",
            " 0.1892799  0.19927364 0.19526612 0.20187852 0.2033062  0.20756418\n",
            " 0.20751409 0.21192235 0.20989355 0.2115717  0.2082154  0.20776456\n",
            " 0.20929242 0.20671259 0.20816531 0.21139637 0.20686287 0.21685661\n",
            " 0.21410144 0.2189856  0.22259236 0.21625548 0.22008766 0.22822793\n",
            " 0.22860363 0.2272511  0.22304321 0.22567314 0.22038823 0.22001252\n",
            " 0.21730745 0.21592987 0.21618034 0.21725736 0.21462743 0.21460769\n",
            " 0.21336676 0.21206936 0.21073624 0.20937856 0.20800294 0.20661408\n",
            " 0.20521538 0.20380972 0.20239881 0.20098384 0.19956507 0.19814216\n",
            " 0.19671403 0.19527918 0.19383587 0.19238237 0.190917   0.18943797\n",
            " 0.18794397 0.18643384 0.18490659 0.18336152 0.18179822 0.18021694\n",
            " 0.17861789 0.17700152 0.17536862 0.17372003]\n",
            "29 day output [[0.17205697]]\n",
            "[[0.21460768580436707], [0.21336676180362701], [0.21206936240196228], [0.2107362449169159], [0.20937855541706085], [0.2080029398202896], [0.20661407709121704], [0.20521537959575653], [0.2038097232580185], [0.20239880681037903], [0.20098383724689484], [0.1995650678873062], [0.1981421560049057], [0.19671402871608734], [0.19527918100357056], [0.19383586943149567], [0.19238236546516418], [0.1909170001745224], [0.18943797051906586], [0.1879439651966095], [0.1864338368177414], [0.18490658700466156], [0.18336151540279388], [0.18179821968078613], [0.1802169382572174], [0.17861789464950562], [0.17700152099132538], [0.17536862194538116], [0.17372003197669983], [0.17205697298049927]]\n"
          ]
        }
      ],
      "source": [
        "# demonstrate prediction for next 10 days\n",
        "from numpy import array\n",
        "\n",
        "lst_output=[]\n",
        "n_steps=100\n",
        "i=0\n",
        "while(i<30):\n",
        "\n",
        "    if(len(temp_input)>100):\n",
        "        #print(temp_input)\n",
        "        x_input=np.array(temp_input[1:])\n",
        "        print(\"{} day input {}\".format(i,x_input))\n",
        "        x_input=x_input.reshape(1,-1)\n",
        "        x_input = x_input.reshape((1, n_steps, 1))\n",
        "        #print(x_input)\n",
        "        yhat = model.predict(x_input, verbose=0)\n",
        "        print(\"{} day output {}\".format(i,yhat))\n",
        "        temp_input.extend(yhat[0].tolist())\n",
        "        temp_input=temp_input[1:]\n",
        "        #print(temp_input)\n",
        "        lst_output.extend(yhat.tolist())\n",
        "        i=i+1\n",
        "    else:\n",
        "        x_input = x_input.reshape((1, n_steps,1))\n",
        "        yhat = model.predict(x_input, verbose=0)\n",
        "        print(yhat[0])\n",
        "        temp_input.extend(yhat[0].tolist())\n",
        "        print(len(temp_input))\n",
        "        lst_output.extend(yhat.tolist())\n",
        "        i=i+1\n",
        "\n",
        "\n",
        "print(lst_output)"
      ]
    },
    {
      "cell_type": "code",
      "execution_count": 166,
      "metadata": {
        "id": "aRpUWce48Eld"
      },
      "outputs": [],
      "source": [
        "day_new=np.arange(1,101)\n",
        "day_pred=np.arange(101,131)"
      ]
    },
    {
      "cell_type": "code",
      "execution_count": 167,
      "metadata": {
        "id": "JrUkgXBR8Eld"
      },
      "outputs": [],
      "source": [
        "import matplotlib.pyplot as plt"
      ]
    },
    {
      "cell_type": "code",
      "execution_count": 168,
      "metadata": {
        "id": "j9XpItW_8Eld",
        "outputId": "3af9dd2a-8f59-4069-ef53-350fb1ecba81",
        "colab": {
          "base_uri": "https://localhost:8080/"
        }
      },
      "outputs": [
        {
          "output_type": "execute_result",
          "data": {
            "text/plain": [
              "1006"
            ]
          },
          "metadata": {},
          "execution_count": 168
        }
      ],
      "source": [
        "len(df1)"
      ]
    },
    {
      "cell_type": "code",
      "execution_count": 176,
      "metadata": {
        "id": "k77IXu4G8Eld",
        "outputId": "2f92bc36-5d55-408a-adbc-cae7746629ef",
        "colab": {
          "base_uri": "https://localhost:8080/",
          "height": 447
        }
      },
      "outputs": [
        {
          "output_type": "execute_result",
          "data": {
            "text/plain": [
              "[<matplotlib.lines.Line2D at 0x7f21d18e96c0>]"
            ]
          },
          "metadata": {},
          "execution_count": 176
        },
        {
          "output_type": "display_data",
          "data": {
            "text/plain": [
              "<Figure size 640x480 with 1 Axes>"
            ],
            "image/png": "[encoded data removed]"
          },
          "metadata": {}
        }
      ],
      "source": [
        "plt.plot(day_new,scaler.inverse_transform(df1[len(df1)-100 :]))    # len(df1) - 100 at start for next 30 days\n",
        "plt.plot(day_pred,scaler.inverse_transform(lst_output))"
      ]
    },
    {
      "cell_type": "code",
      "execution_count": 180,
      "metadata": {
        "id": "Yl6Mbg9i8Eld",
        "outputId": "86a9fda2-c420-4e72-c731-a9b2d19fd949",
        "colab": {
          "base_uri": "https://localhost:8080/",
          "height": 447
        }
      },
      "outputs": [
        {
          "output_type": "execute_result",
          "data": {
            "text/plain": [
              "[<matplotlib.lines.Line2D at 0x7f21d161f040>]"
            ]
          },
          "metadata": {},
          "execution_count": 180
        },
        {
          "output_type": "display_data",
          "data": {
            "text/plain": [
              "<Figure size 640x480 with 1 Axes>"
            ],
            "image/png": "[encoded data removed]"
          },
          "metadata": {}
        }
      ],
      "source": [
        "df3=df1.tolist()\n",
        "df3.extend(lst_output)\n",
        "plt.plot(df3[500:])"
      ]
    },
    {
      "cell_type": "code",
      "execution_count": 178,
      "metadata": {
        "id": "48XzvofP8Eld"
      },
      "outputs": [],
      "source": [
        "df3=scaler.inverse_transform(df3).tolist()"
      ]
    },
    {
      "cell_type": "code",
      "execution_count": 181,
      "metadata": {
        "id": "wUFf6PNj8Eld",
        "outputId": "adb6e3da-bd98-4383-bd8d-3b45df87290b",
        "colab": {
          "base_uri": "https://localhost:8080/",
          "height": 447
        }
      },
      "outputs": [
        {
          "output_type": "execute_result",
          "data": {
            "text/plain": [
              "[<matplotlib.lines.Line2D at 0x7f21d1646650>]"
            ]
          },
          "metadata": {},
          "execution_count": 181
        },
        {
          "output_type": "display_data",
          "data": {
            "text/plain": [
              "<Figure size 640x480 with 1 Axes>"
            ],
            "image/png": "[encoded data removed]"
          },
          "metadata": {}
        }
      ],
      "source": [
        "plt.plot(df3)"
      ]
    },
    {
      "cell_type": "code",
      "execution_count": null,
      "metadata": {
        "id": "HcTyD5US8Eld"
      },
      "outputs": [],
      "source": []
    }
  ],
  "metadata": {
    "kernelspec": {
      "display_name": "Python 3",
      "language": "python",
      "name": "python3"
    },
    "language_info": {
      "codemirror_mode": {
        "name": "ipython",
        "version": 3
      },
      "file_extension": ".py",
      "mimetype": "text/x-python",
      "name": "python",
      "nbconvert_exporter": "python",
      "pygments_lexer": "ipython3",
      "version": "3.6.9"
    },
    "colab": {
      "provenance": []
    }
  },
  "nbformat": 4,
  "nbformat_minor": 0
}